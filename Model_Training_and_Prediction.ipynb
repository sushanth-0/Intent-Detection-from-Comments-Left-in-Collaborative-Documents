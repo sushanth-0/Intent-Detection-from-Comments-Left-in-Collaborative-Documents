{
  "cells": [
    {
      "cell_type": "code",
      "execution_count": null,
      "id": "469a94c7",
      "metadata": {
        "id": "469a94c7",
        "outputId": "f9ccf7f4-b90c-4304-8ba2-503d85baff67"
      },
      "outputs": [
        {
          "name": "stdout",
          "output_type": "stream",
          "text": [
            "Requirement already satisfied: torch in /home/sushanr/.conda/envs/mlp/lib/python3.8/site-packages (2.2.2)\n",
            "Requirement already satisfied: torchvision in /home/sushanr/.conda/envs/mlp/lib/python3.8/site-packages (0.17.2)\n",
            "Requirement already satisfied: torchaudio in /home/sushanr/.conda/envs/mlp/lib/python3.8/site-packages (2.2.2)\n",
            "Requirement already satisfied: filelock in /home/sushanr/.conda/envs/mlp/lib/python3.8/site-packages (from torch) (3.13.4)\n",
            "Requirement already satisfied: typing-extensions>=4.8.0 in /home/sushanr/.conda/envs/mlp/lib/python3.8/site-packages (from torch) (4.9.0)\n",
            "Requirement already satisfied: sympy in /home/sushanr/.conda/envs/mlp/lib/python3.8/site-packages (from torch) (1.12)\n",
            "Requirement already satisfied: networkx in /home/sushanr/.conda/envs/mlp/lib/python3.8/site-packages (from torch) (3.1)\n",
            "Requirement already satisfied: jinja2 in /home/sushanr/.conda/envs/mlp/lib/python3.8/site-packages (from torch) (3.1.3)\n",
            "Requirement already satisfied: fsspec in /home/sushanr/.conda/envs/mlp/lib/python3.8/site-packages (from torch) (2024.2.0)\n",
            "Requirement already satisfied: nvidia-cuda-nvrtc-cu12==12.1.105 in /home/sushanr/.conda/envs/mlp/lib/python3.8/site-packages (from torch) (12.1.105)\n",
            "Requirement already satisfied: nvidia-cuda-runtime-cu12==12.1.105 in /home/sushanr/.conda/envs/mlp/lib/python3.8/site-packages (from torch) (12.1.105)\n",
            "Requirement already satisfied: nvidia-cuda-cupti-cu12==12.1.105 in /home/sushanr/.conda/envs/mlp/lib/python3.8/site-packages (from torch) (12.1.105)\n",
            "Requirement already satisfied: nvidia-cudnn-cu12==8.9.2.26 in /home/sushanr/.conda/envs/mlp/lib/python3.8/site-packages (from torch) (8.9.2.26)\n",
            "Requirement already satisfied: nvidia-cublas-cu12==12.1.3.1 in /home/sushanr/.conda/envs/mlp/lib/python3.8/site-packages (from torch) (12.1.3.1)\n",
            "Requirement already satisfied: nvidia-cufft-cu12==11.0.2.54 in /home/sushanr/.conda/envs/mlp/lib/python3.8/site-packages (from torch) (11.0.2.54)\n",
            "Requirement already satisfied: nvidia-curand-cu12==10.3.2.106 in /home/sushanr/.conda/envs/mlp/lib/python3.8/site-packages (from torch) (10.3.2.106)\n",
            "Requirement already satisfied: nvidia-cusolver-cu12==11.4.5.107 in /home/sushanr/.conda/envs/mlp/lib/python3.8/site-packages (from torch) (11.4.5.107)\n",
            "Requirement already satisfied: nvidia-cusparse-cu12==12.1.0.106 in /home/sushanr/.conda/envs/mlp/lib/python3.8/site-packages (from torch) (12.1.0.106)\n",
            "Requirement already satisfied: nvidia-nccl-cu12==2.19.3 in /home/sushanr/.conda/envs/mlp/lib/python3.8/site-packages (from torch) (2.19.3)\n",
            "Requirement already satisfied: nvidia-nvtx-cu12==12.1.105 in /home/sushanr/.conda/envs/mlp/lib/python3.8/site-packages (from torch) (12.1.105)\n",
            "Requirement already satisfied: triton==2.2.0 in /home/sushanr/.conda/envs/mlp/lib/python3.8/site-packages (from torch) (2.2.0)\n",
            "Requirement already satisfied: nvidia-nvjitlink-cu12 in /home/sushanr/.conda/envs/mlp/lib/python3.8/site-packages (from nvidia-cusolver-cu12==11.4.5.107->torch) (12.4.127)\n",
            "Requirement already satisfied: numpy in /home/sushanr/.conda/envs/mlp/lib/python3.8/site-packages (from torchvision) (1.23.5)\n",
            "Requirement already satisfied: pillow!=8.3.*,>=5.3.0 in /home/sushanr/.conda/envs/mlp/lib/python3.8/site-packages (from torchvision) (10.3.0)\n",
            "Requirement already satisfied: MarkupSafe>=2.0 in /home/sushanr/.conda/envs/mlp/lib/python3.8/site-packages (from jinja2->torch) (2.1.3)\n",
            "Requirement already satisfied: mpmath>=0.19 in /home/sushanr/.conda/envs/mlp/lib/python3.8/site-packages (from sympy->torch) (1.3.0)\n",
            "Requirement already satisfied: accelerate in /home/sushanr/.conda/envs/mlp/lib/python3.8/site-packages (0.29.3)\n",
            "Requirement already satisfied: numpy>=1.17 in /home/sushanr/.conda/envs/mlp/lib/python3.8/site-packages (from accelerate) (1.23.5)\n",
            "Requirement already satisfied: packaging>=20.0 in /home/sushanr/.conda/envs/mlp/lib/python3.8/site-packages (from accelerate) (23.2)\n",
            "Requirement already satisfied: psutil in /home/sushanr/.conda/envs/mlp/lib/python3.8/site-packages (from accelerate) (5.9.0)\n",
            "Requirement already satisfied: pyyaml in /home/sushanr/.conda/envs/mlp/lib/python3.8/site-packages (from accelerate) (6.0.1)\n",
            "Requirement already satisfied: torch>=1.10.0 in /home/sushanr/.conda/envs/mlp/lib/python3.8/site-packages (from accelerate) (2.2.2)\n",
            "Requirement already satisfied: huggingface-hub in /home/sushanr/.conda/envs/mlp/lib/python3.8/site-packages (from accelerate) (0.22.2)\n",
            "Requirement already satisfied: safetensors>=0.3.1 in /home/sushanr/.conda/envs/mlp/lib/python3.8/site-packages (from accelerate) (0.4.3)\n",
            "Requirement already satisfied: filelock in /home/sushanr/.conda/envs/mlp/lib/python3.8/site-packages (from torch>=1.10.0->accelerate) (3.13.4)\n",
            "Requirement already satisfied: typing-extensions>=4.8.0 in /home/sushanr/.conda/envs/mlp/lib/python3.8/site-packages (from torch>=1.10.0->accelerate) (4.9.0)\n",
            "Requirement already satisfied: sympy in /home/sushanr/.conda/envs/mlp/lib/python3.8/site-packages (from torch>=1.10.0->accelerate) (1.12)\n",
            "Requirement already satisfied: networkx in /home/sushanr/.conda/envs/mlp/lib/python3.8/site-packages (from torch>=1.10.0->accelerate) (3.1)\n",
            "Requirement already satisfied: jinja2 in /home/sushanr/.conda/envs/mlp/lib/python3.8/site-packages (from torch>=1.10.0->accelerate) (3.1.3)\n",
            "Requirement already satisfied: fsspec in /home/sushanr/.conda/envs/mlp/lib/python3.8/site-packages (from torch>=1.10.0->accelerate) (2024.2.0)\n",
            "Requirement already satisfied: nvidia-cuda-nvrtc-cu12==12.1.105 in /home/sushanr/.conda/envs/mlp/lib/python3.8/site-packages (from torch>=1.10.0->accelerate) (12.1.105)\n",
            "Requirement already satisfied: nvidia-cuda-runtime-cu12==12.1.105 in /home/sushanr/.conda/envs/mlp/lib/python3.8/site-packages (from torch>=1.10.0->accelerate) (12.1.105)\n",
            "Requirement already satisfied: nvidia-cuda-cupti-cu12==12.1.105 in /home/sushanr/.conda/envs/mlp/lib/python3.8/site-packages (from torch>=1.10.0->accelerate) (12.1.105)\n",
            "Requirement already satisfied: nvidia-cudnn-cu12==8.9.2.26 in /home/sushanr/.conda/envs/mlp/lib/python3.8/site-packages (from torch>=1.10.0->accelerate) (8.9.2.26)\n",
            "Requirement already satisfied: nvidia-cublas-cu12==12.1.3.1 in /home/sushanr/.conda/envs/mlp/lib/python3.8/site-packages (from torch>=1.10.0->accelerate) (12.1.3.1)\n",
            "Requirement already satisfied: nvidia-cufft-cu12==11.0.2.54 in /home/sushanr/.conda/envs/mlp/lib/python3.8/site-packages (from torch>=1.10.0->accelerate) (11.0.2.54)\n",
            "Requirement already satisfied: nvidia-curand-cu12==10.3.2.106 in /home/sushanr/.conda/envs/mlp/lib/python3.8/site-packages (from torch>=1.10.0->accelerate) (10.3.2.106)\n",
            "Requirement already satisfied: nvidia-cusolver-cu12==11.4.5.107 in /home/sushanr/.conda/envs/mlp/lib/python3.8/site-packages (from torch>=1.10.0->accelerate) (11.4.5.107)\n",
            "Requirement already satisfied: nvidia-cusparse-cu12==12.1.0.106 in /home/sushanr/.conda/envs/mlp/lib/python3.8/site-packages (from torch>=1.10.0->accelerate) (12.1.0.106)\n",
            "Requirement already satisfied: nvidia-nccl-cu12==2.19.3 in /home/sushanr/.conda/envs/mlp/lib/python3.8/site-packages (from torch>=1.10.0->accelerate) (2.19.3)\n",
            "Requirement already satisfied: nvidia-nvtx-cu12==12.1.105 in /home/sushanr/.conda/envs/mlp/lib/python3.8/site-packages (from torch>=1.10.0->accelerate) (12.1.105)\n",
            "Requirement already satisfied: triton==2.2.0 in /home/sushanr/.conda/envs/mlp/lib/python3.8/site-packages (from torch>=1.10.0->accelerate) (2.2.0)\n",
            "Requirement already satisfied: nvidia-nvjitlink-cu12 in /home/sushanr/.conda/envs/mlp/lib/python3.8/site-packages (from nvidia-cusolver-cu12==11.4.5.107->torch>=1.10.0->accelerate) (12.4.127)\n",
            "Requirement already satisfied: requests in /home/sushanr/.conda/envs/mlp/lib/python3.8/site-packages (from huggingface-hub->accelerate) (2.31.0)\n",
            "Requirement already satisfied: tqdm>=4.42.1 in /home/sushanr/.conda/envs/mlp/lib/python3.8/site-packages (from huggingface-hub->accelerate) (4.66.2)\n",
            "Requirement already satisfied: MarkupSafe>=2.0 in /home/sushanr/.conda/envs/mlp/lib/python3.8/site-packages (from jinja2->torch>=1.10.0->accelerate) (2.1.3)\n",
            "Requirement already satisfied: charset-normalizer<4,>=2 in /home/sushanr/.conda/envs/mlp/lib/python3.8/site-packages (from requests->huggingface-hub->accelerate) (2.0.4)\n",
            "Requirement already satisfied: idna<4,>=2.5 in /home/sushanr/.conda/envs/mlp/lib/python3.8/site-packages (from requests->huggingface-hub->accelerate) (3.4)\n",
            "Requirement already satisfied: urllib3<3,>=1.21.1 in /home/sushanr/.conda/envs/mlp/lib/python3.8/site-packages (from requests->huggingface-hub->accelerate) (2.1.0)\n",
            "Requirement already satisfied: certifi>=2017.4.17 in /home/sushanr/.conda/envs/mlp/lib/python3.8/site-packages (from requests->huggingface-hub->accelerate) (2024.2.2)\n",
            "Requirement already satisfied: mpmath>=0.19 in /home/sushanr/.conda/envs/mlp/lib/python3.8/site-packages (from sympy->torch>=1.10.0->accelerate) (1.3.0)\n",
            "Requirement already satisfied: accelerate in /home/sushanr/.conda/envs/mlp/lib/python3.8/site-packages (0.29.3)\n",
            "Requirement already satisfied: numpy>=1.17 in /home/sushanr/.conda/envs/mlp/lib/python3.8/site-packages (from accelerate) (1.23.5)\n",
            "Requirement already satisfied: packaging>=20.0 in /home/sushanr/.conda/envs/mlp/lib/python3.8/site-packages (from accelerate) (23.2)\n",
            "Requirement already satisfied: psutil in /home/sushanr/.conda/envs/mlp/lib/python3.8/site-packages (from accelerate) (5.9.0)\n",
            "Requirement already satisfied: pyyaml in /home/sushanr/.conda/envs/mlp/lib/python3.8/site-packages (from accelerate) (6.0.1)\n",
            "Requirement already satisfied: torch>=1.10.0 in /home/sushanr/.conda/envs/mlp/lib/python3.8/site-packages (from accelerate) (2.2.2)\n",
            "Requirement already satisfied: huggingface-hub in /home/sushanr/.conda/envs/mlp/lib/python3.8/site-packages (from accelerate) (0.22.2)\n",
            "Requirement already satisfied: safetensors>=0.3.1 in /home/sushanr/.conda/envs/mlp/lib/python3.8/site-packages (from accelerate) (0.4.3)\n",
            "Requirement already satisfied: filelock in /home/sushanr/.conda/envs/mlp/lib/python3.8/site-packages (from torch>=1.10.0->accelerate) (3.13.4)\n",
            "Requirement already satisfied: typing-extensions>=4.8.0 in /home/sushanr/.conda/envs/mlp/lib/python3.8/site-packages (from torch>=1.10.0->accelerate) (4.9.0)\n",
            "Requirement already satisfied: sympy in /home/sushanr/.conda/envs/mlp/lib/python3.8/site-packages (from torch>=1.10.0->accelerate) (1.12)\n",
            "Requirement already satisfied: networkx in /home/sushanr/.conda/envs/mlp/lib/python3.8/site-packages (from torch>=1.10.0->accelerate) (3.1)\n",
            "Requirement already satisfied: jinja2 in /home/sushanr/.conda/envs/mlp/lib/python3.8/site-packages (from torch>=1.10.0->accelerate) (3.1.3)\n",
            "Requirement already satisfied: fsspec in /home/sushanr/.conda/envs/mlp/lib/python3.8/site-packages (from torch>=1.10.0->accelerate) (2024.2.0)\n",
            "Requirement already satisfied: nvidia-cuda-nvrtc-cu12==12.1.105 in /home/sushanr/.conda/envs/mlp/lib/python3.8/site-packages (from torch>=1.10.0->accelerate) (12.1.105)\n",
            "Requirement already satisfied: nvidia-cuda-runtime-cu12==12.1.105 in /home/sushanr/.conda/envs/mlp/lib/python3.8/site-packages (from torch>=1.10.0->accelerate) (12.1.105)\n",
            "Requirement already satisfied: nvidia-cuda-cupti-cu12==12.1.105 in /home/sushanr/.conda/envs/mlp/lib/python3.8/site-packages (from torch>=1.10.0->accelerate) (12.1.105)\n",
            "Requirement already satisfied: nvidia-cudnn-cu12==8.9.2.26 in /home/sushanr/.conda/envs/mlp/lib/python3.8/site-packages (from torch>=1.10.0->accelerate) (8.9.2.26)\n",
            "Requirement already satisfied: nvidia-cublas-cu12==12.1.3.1 in /home/sushanr/.conda/envs/mlp/lib/python3.8/site-packages (from torch>=1.10.0->accelerate) (12.1.3.1)\n",
            "Requirement already satisfied: nvidia-cufft-cu12==11.0.2.54 in /home/sushanr/.conda/envs/mlp/lib/python3.8/site-packages (from torch>=1.10.0->accelerate) (11.0.2.54)\n",
            "Requirement already satisfied: nvidia-curand-cu12==10.3.2.106 in /home/sushanr/.conda/envs/mlp/lib/python3.8/site-packages (from torch>=1.10.0->accelerate) (10.3.2.106)\n",
            "Requirement already satisfied: nvidia-cusolver-cu12==11.4.5.107 in /home/sushanr/.conda/envs/mlp/lib/python3.8/site-packages (from torch>=1.10.0->accelerate) (11.4.5.107)\n",
            "Requirement already satisfied: nvidia-cusparse-cu12==12.1.0.106 in /home/sushanr/.conda/envs/mlp/lib/python3.8/site-packages (from torch>=1.10.0->accelerate) (12.1.0.106)\n",
            "Requirement already satisfied: nvidia-nccl-cu12==2.19.3 in /home/sushanr/.conda/envs/mlp/lib/python3.8/site-packages (from torch>=1.10.0->accelerate) (2.19.3)\n",
            "Requirement already satisfied: nvidia-nvtx-cu12==12.1.105 in /home/sushanr/.conda/envs/mlp/lib/python3.8/site-packages (from torch>=1.10.0->accelerate) (12.1.105)\n",
            "Requirement already satisfied: triton==2.2.0 in /home/sushanr/.conda/envs/mlp/lib/python3.8/site-packages (from torch>=1.10.0->accelerate) (2.2.0)\n",
            "Requirement already satisfied: nvidia-nvjitlink-cu12 in /home/sushanr/.conda/envs/mlp/lib/python3.8/site-packages (from nvidia-cusolver-cu12==11.4.5.107->torch>=1.10.0->accelerate) (12.4.127)\n",
            "Requirement already satisfied: requests in /home/sushanr/.conda/envs/mlp/lib/python3.8/site-packages (from huggingface-hub->accelerate) (2.31.0)\n",
            "Requirement already satisfied: tqdm>=4.42.1 in /home/sushanr/.conda/envs/mlp/lib/python3.8/site-packages (from huggingface-hub->accelerate) (4.66.2)\n",
            "Requirement already satisfied: MarkupSafe>=2.0 in /home/sushanr/.conda/envs/mlp/lib/python3.8/site-packages (from jinja2->torch>=1.10.0->accelerate) (2.1.3)\n",
            "Requirement already satisfied: charset-normalizer<4,>=2 in /home/sushanr/.conda/envs/mlp/lib/python3.8/site-packages (from requests->huggingface-hub->accelerate) (2.0.4)\n",
            "Requirement already satisfied: idna<4,>=2.5 in /home/sushanr/.conda/envs/mlp/lib/python3.8/site-packages (from requests->huggingface-hub->accelerate) (3.4)\n",
            "Requirement already satisfied: urllib3<3,>=1.21.1 in /home/sushanr/.conda/envs/mlp/lib/python3.8/site-packages (from requests->huggingface-hub->accelerate) (2.1.0)\n",
            "Requirement already satisfied: certifi>=2017.4.17 in /home/sushanr/.conda/envs/mlp/lib/python3.8/site-packages (from requests->huggingface-hub->accelerate) (2024.2.2)\n",
            "Requirement already satisfied: mpmath>=0.19 in /home/sushanr/.conda/envs/mlp/lib/python3.8/site-packages (from sympy->torch>=1.10.0->accelerate) (1.3.0)\n",
            "Requirement already satisfied: torch in /home/sushanr/.conda/envs/mlp/lib/python3.8/site-packages (2.2.2)\n",
            "Requirement already satisfied: torchvision in /home/sushanr/.conda/envs/mlp/lib/python3.8/site-packages (0.17.2)\n",
            "Requirement already satisfied: torchaudio in /home/sushanr/.conda/envs/mlp/lib/python3.8/site-packages (2.2.2)\n",
            "Requirement already satisfied: filelock in /home/sushanr/.conda/envs/mlp/lib/python3.8/site-packages (from torch) (3.13.4)\n",
            "Requirement already satisfied: typing-extensions>=4.8.0 in /home/sushanr/.conda/envs/mlp/lib/python3.8/site-packages (from torch) (4.9.0)\n",
            "Requirement already satisfied: sympy in /home/sushanr/.conda/envs/mlp/lib/python3.8/site-packages (from torch) (1.12)\n",
            "Requirement already satisfied: networkx in /home/sushanr/.conda/envs/mlp/lib/python3.8/site-packages (from torch) (3.1)\n",
            "Requirement already satisfied: jinja2 in /home/sushanr/.conda/envs/mlp/lib/python3.8/site-packages (from torch) (3.1.3)\n",
            "Requirement already satisfied: fsspec in /home/sushanr/.conda/envs/mlp/lib/python3.8/site-packages (from torch) (2024.2.0)\n",
            "Requirement already satisfied: nvidia-cuda-nvrtc-cu12==12.1.105 in /home/sushanr/.conda/envs/mlp/lib/python3.8/site-packages (from torch) (12.1.105)\n",
            "Requirement already satisfied: nvidia-cuda-runtime-cu12==12.1.105 in /home/sushanr/.conda/envs/mlp/lib/python3.8/site-packages (from torch) (12.1.105)\n",
            "Requirement already satisfied: nvidia-cuda-cupti-cu12==12.1.105 in /home/sushanr/.conda/envs/mlp/lib/python3.8/site-packages (from torch) (12.1.105)\n",
            "Requirement already satisfied: nvidia-cudnn-cu12==8.9.2.26 in /home/sushanr/.conda/envs/mlp/lib/python3.8/site-packages (from torch) (8.9.2.26)\n",
            "Requirement already satisfied: nvidia-cublas-cu12==12.1.3.1 in /home/sushanr/.conda/envs/mlp/lib/python3.8/site-packages (from torch) (12.1.3.1)\n",
            "Requirement already satisfied: nvidia-cufft-cu12==11.0.2.54 in /home/sushanr/.conda/envs/mlp/lib/python3.8/site-packages (from torch) (11.0.2.54)\n",
            "Requirement already satisfied: nvidia-curand-cu12==10.3.2.106 in /home/sushanr/.conda/envs/mlp/lib/python3.8/site-packages (from torch) (10.3.2.106)\n",
            "Requirement already satisfied: nvidia-cusolver-cu12==11.4.5.107 in /home/sushanr/.conda/envs/mlp/lib/python3.8/site-packages (from torch) (11.4.5.107)\n",
            "Requirement already satisfied: nvidia-cusparse-cu12==12.1.0.106 in /home/sushanr/.conda/envs/mlp/lib/python3.8/site-packages (from torch) (12.1.0.106)\n",
            "Requirement already satisfied: nvidia-nccl-cu12==2.19.3 in /home/sushanr/.conda/envs/mlp/lib/python3.8/site-packages (from torch) (2.19.3)\n",
            "Requirement already satisfied: nvidia-nvtx-cu12==12.1.105 in /home/sushanr/.conda/envs/mlp/lib/python3.8/site-packages (from torch) (12.1.105)\n",
            "Requirement already satisfied: triton==2.2.0 in /home/sushanr/.conda/envs/mlp/lib/python3.8/site-packages (from torch) (2.2.0)\n",
            "Requirement already satisfied: nvidia-nvjitlink-cu12 in /home/sushanr/.conda/envs/mlp/lib/python3.8/site-packages (from nvidia-cusolver-cu12==11.4.5.107->torch) (12.4.127)\n",
            "Requirement already satisfied: numpy in /home/sushanr/.conda/envs/mlp/lib/python3.8/site-packages (from torchvision) (1.23.5)\n",
            "Requirement already satisfied: pillow!=8.3.*,>=5.3.0 in /home/sushanr/.conda/envs/mlp/lib/python3.8/site-packages (from torchvision) (10.3.0)\n",
            "Requirement already satisfied: MarkupSafe>=2.0 in /home/sushanr/.conda/envs/mlp/lib/python3.8/site-packages (from jinja2->torch) (2.1.3)\n",
            "Requirement already satisfied: mpmath>=0.19 in /home/sushanr/.conda/envs/mlp/lib/python3.8/site-packages (from sympy->torch) (1.3.0)\n",
            "Requirement already satisfied: transformers in /home/sushanr/.conda/envs/mlp/lib/python3.8/site-packages (4.40.0)\n",
            "Requirement already satisfied: filelock in /home/sushanr/.conda/envs/mlp/lib/python3.8/site-packages (from transformers) (3.13.4)\n",
            "Requirement already satisfied: huggingface-hub<1.0,>=0.19.3 in /home/sushanr/.conda/envs/mlp/lib/python3.8/site-packages (from transformers) (0.22.2)\n",
            "Requirement already satisfied: numpy>=1.17 in /home/sushanr/.conda/envs/mlp/lib/python3.8/site-packages (from transformers) (1.23.5)\n",
            "Requirement already satisfied: packaging>=20.0 in /home/sushanr/.conda/envs/mlp/lib/python3.8/site-packages (from transformers) (23.2)\n",
            "Requirement already satisfied: pyyaml>=5.1 in /home/sushanr/.conda/envs/mlp/lib/python3.8/site-packages (from transformers) (6.0.1)\n",
            "Requirement already satisfied: regex!=2019.12.17 in /home/sushanr/.conda/envs/mlp/lib/python3.8/site-packages (from transformers) (2023.12.25)\n",
            "Requirement already satisfied: requests in /home/sushanr/.conda/envs/mlp/lib/python3.8/site-packages (from transformers) (2.31.0)\n",
            "Requirement already satisfied: tokenizers<0.20,>=0.19 in /home/sushanr/.conda/envs/mlp/lib/python3.8/site-packages (from transformers) (0.19.1)\n",
            "Requirement already satisfied: safetensors>=0.4.1 in /home/sushanr/.conda/envs/mlp/lib/python3.8/site-packages (from transformers) (0.4.3)\n",
            "Requirement already satisfied: tqdm>=4.27 in /home/sushanr/.conda/envs/mlp/lib/python3.8/site-packages (from transformers) (4.66.2)\n",
            "Requirement already satisfied: fsspec>=2023.5.0 in /home/sushanr/.conda/envs/mlp/lib/python3.8/site-packages (from huggingface-hub<1.0,>=0.19.3->transformers) (2024.2.0)\n",
            "Requirement already satisfied: typing-extensions>=3.7.4.3 in /home/sushanr/.conda/envs/mlp/lib/python3.8/site-packages (from huggingface-hub<1.0,>=0.19.3->transformers) (4.9.0)\n",
            "Requirement already satisfied: charset-normalizer<4,>=2 in /home/sushanr/.conda/envs/mlp/lib/python3.8/site-packages (from requests->transformers) (2.0.4)\n",
            "Requirement already satisfied: idna<4,>=2.5 in /home/sushanr/.conda/envs/mlp/lib/python3.8/site-packages (from requests->transformers) (3.4)\n",
            "Requirement already satisfied: urllib3<3,>=1.21.1 in /home/sushanr/.conda/envs/mlp/lib/python3.8/site-packages (from requests->transformers) (2.1.0)\n",
            "Requirement already satisfied: certifi>=2017.4.17 in /home/sushanr/.conda/envs/mlp/lib/python3.8/site-packages (from requests->transformers) (2024.2.2)\n"
          ]
        },
        {
          "name": "stderr",
          "output_type": "stream",
          "text": [
            "2024-04-23 16:59:59.525193: I tensorflow/stream_executor/platform/default/dso_loader.cc:49] Successfully opened dynamic library libcudart.so.10.1\n"
          ]
        }
      ],
      "source": [
        "!pip install torch torchvision torchaudio --upgrade\n",
        "!pip install accelerate\n",
        "!pip install accelerate --upgrade\n",
        "!pip install torch torchvision torchaudio --upgrade\n",
        "\n",
        "\n",
        "\n",
        "!pip install transformers --upgrade\n",
        "from transformers import DistilBertTokenizer, DistilBertForSequenceClassification, Trainer, TrainingArguments\n",
        "from sklearn.model_selection import train_test_split\n",
        "import numpy as np\n",
        "from sklearn.metrics import accuracy_score, precision_recall_fscore_support"
      ]
    },
    {
      "cell_type": "code",
      "execution_count": null,
      "id": "ddff7632",
      "metadata": {
        "id": "ddff7632"
      },
      "outputs": [],
      "source": [
        "import pandas as pd\n",
        "\n",
        "df = pd.read_csv('labeled_comments_cleaned.csv')"
      ]
    },
    {
      "cell_type": "code",
      "execution_count": null,
      "id": "7b48d9aa",
      "metadata": {
        "id": "7b48d9aa"
      },
      "outputs": [],
      "source": [
        "import re\n",
        "\n",
        "# Function to clean text data\n",
        "def clean_text(text):\n",
        "    # Remove symbols and numbers\n",
        "    text = re.sub(r'[^a-zA-Z\\s]', '', text, re.I|re.A)\n",
        "    # Convert to lowercase\n",
        "    text = text.lower()\n",
        "    # Remove extra spaces\n",
        "    text = text.strip()\n",
        "    return text\n",
        "\n",
        "# Clean the comment_full_text column\n",
        "df['comment_full_text'] = df['comment_full_text'].apply(clean_text)"
      ]
    },
    {
      "cell_type": "code",
      "execution_count": null,
      "id": "7a9fe1c2",
      "metadata": {
        "id": "7a9fe1c2",
        "outputId": "bd28601d-862e-4a8b-b2dc-2157b4d9ddad"
      },
      "outputs": [
        {
          "data": {
            "text/html": [
              "<div>\n",
              "<style scoped>\n",
              "    .dataframe tbody tr th:only-of-type {\n",
              "        vertical-align: middle;\n",
              "    }\n",
              "\n",
              "    .dataframe tbody tr th {\n",
              "        vertical-align: top;\n",
              "    }\n",
              "\n",
              "    .dataframe thead th {\n",
              "        text-align: right;\n",
              "    }\n",
              "</style>\n",
              "<table border=\"1\" class=\"dataframe\">\n",
              "  <thead>\n",
              "    <tr style=\"text-align: right;\">\n",
              "      <th></th>\n",
              "      <th>file_id</th>\n",
              "      <th>comment_id</th>\n",
              "      <th>comment_date</th>\n",
              "      <th>anonymized_nickname</th>\n",
              "      <th>document_paragraph_text</th>\n",
              "      <th>document_selected_text</th>\n",
              "      <th>document_selected_sentences</th>\n",
              "      <th>comment_full_text</th>\n",
              "      <th>comment_sentence_text</th>\n",
              "      <th>is_sentence</th>\n",
              "      <th>...</th>\n",
              "      <th>spelling_errors</th>\n",
              "      <th>tracked_changes</th>\n",
              "      <th>next_action</th>\n",
              "      <th>level_0</th>\n",
              "      <th>level_1</th>\n",
              "      <th>level_2</th>\n",
              "      <th>level_3</th>\n",
              "      <th>level_4</th>\n",
              "      <th>date_column</th>\n",
              "      <th>time_column</th>\n",
              "    </tr>\n",
              "  </thead>\n",
              "  <tbody>\n",
              "    <tr>\n",
              "      <th>0</th>\n",
              "      <td>ed88fa24-1a89-44fb-9a66-c7f554d87f5d</td>\n",
              "      <td>ffc97358-69e6-48fb-aaf0-6a844e26f653</td>\n",
              "      <td>2013-04-09 09:30:00+00:00 00:00:00+00:00</td>\n",
              "      <td>Editor</td>\n",
              "      <td>The experiments were carried out in a fluidize...</td>\n",
              "      <td>NaN</td>\n",
              "      <td>1.0</td>\n",
              "      <td>ok</td>\n",
              "      <td>Ok?</td>\n",
              "      <td>0</td>\n",
              "      <td>...</td>\n",
              "      <td>0.0</td>\n",
              "      <td>2.0</td>\n",
              "      <td>KEEP</td>\n",
              "      <td>INFORMATION EXCHANGE</td>\n",
              "      <td>REQUESTED</td>\n",
              "      <td>REQUESTING_CONFIRMATION</td>\n",
              "      <td>POTENTIAL_CHANGE</td>\n",
              "      <td>NaN</td>\n",
              "      <td>2013-04-09</td>\n",
              "      <td>09:30:00</td>\n",
              "    </tr>\n",
              "    <tr>\n",
              "      <th>1</th>\n",
              "      <td>0c9c7a44-8bae-4bcf-a271-1b54ab0ef41e</td>\n",
              "      <td>ffa706dc-4877-492d-ac74-598d5f4d07c5</td>\n",
              "      <td>2011-12-08 15:51:00+00:00 00:00:00+00:00</td>\n",
              "      <td>Alicia R. Dalton-Tingler</td>\n",
              "      <td>In addition to the work mentioned above, the E...</td>\n",
              "      <td>NaN</td>\n",
              "      <td>1.0</td>\n",
              "      <td>this has been discussed in the executive summa...</td>\n",
              "      <td>This has been discussed in the Executive Summa...</td>\n",
              "      <td>1</td>\n",
              "      <td>...</td>\n",
              "      <td>0.0</td>\n",
              "      <td>1.0</td>\n",
              "      <td>KEEP</td>\n",
              "      <td>MODIFICATION</td>\n",
              "      <td>EXECUTION</td>\n",
              "      <td>PROMISE</td>\n",
              "      <td>NaN</td>\n",
              "      <td>NaN</td>\n",
              "      <td>2011-12-08</td>\n",
              "      <td>15:51:00</td>\n",
              "    </tr>\n",
              "    <tr>\n",
              "      <th>2</th>\n",
              "      <td>0c9c7a44-8bae-4bcf-a271-1b54ab0ef41e</td>\n",
              "      <td>ffa706dc-4877-492d-ac74-598d5f4d07c5</td>\n",
              "      <td>2011-12-08 15:51:00+00:00 00:00:00+00:00</td>\n",
              "      <td>Alicia R. Dalton-Tingler</td>\n",
              "      <td>In addition to the work mentioned above, the E...</td>\n",
              "      <td>NaN</td>\n",
              "      <td>1.0</td>\n",
              "      <td>this has been discussed in the executive summa...</td>\n",
              "      <td>It is, however, very out of place sitting here.</td>\n",
              "      <td>1</td>\n",
              "      <td>...</td>\n",
              "      <td>0.0</td>\n",
              "      <td>1.0</td>\n",
              "      <td>KEEP</td>\n",
              "      <td>SOCIAL COMMUNICATION</td>\n",
              "      <td>DISCUSSION</td>\n",
              "      <td>CONTENT</td>\n",
              "      <td>NOT_POTENTIAL_CHANGE</td>\n",
              "      <td>NaN</td>\n",
              "      <td>2011-12-08</td>\n",
              "      <td>15:51:00</td>\n",
              "    </tr>\n",
              "    <tr>\n",
              "      <th>3</th>\n",
              "      <td>0c9c7a44-8bae-4bcf-a271-1b54ab0ef41e</td>\n",
              "      <td>ffa706dc-4877-492d-ac74-598d5f4d07c5</td>\n",
              "      <td>2011-12-08 15:51:00+00:00 00:00:00+00:00</td>\n",
              "      <td>Alicia R. Dalton-Tingler</td>\n",
              "      <td>In addition to the work mentioned above, the E...</td>\n",
              "      <td>NaN</td>\n",
              "      <td>1.0</td>\n",
              "      <td>this has been discussed in the executive summa...</td>\n",
              "      <td>This has been discussed in the Executive Summa...</td>\n",
              "      <td>0</td>\n",
              "      <td>...</td>\n",
              "      <td>0.0</td>\n",
              "      <td>1.0</td>\n",
              "      <td>KEEP</td>\n",
              "      <td>MODIFICATION</td>\n",
              "      <td>REQUESTED</td>\n",
              "      <td>CONTENT</td>\n",
              "      <td>EXPLICIT</td>\n",
              "      <td>NaN</td>\n",
              "      <td>2011-12-08</td>\n",
              "      <td>15:51:00</td>\n",
              "    </tr>\n",
              "    <tr>\n",
              "      <th>4</th>\n",
              "      <td>f5208894-9572-4cb8-b023-00b3c03cee89</td>\n",
              "      <td>ff533813-4050-424d-8e01-3c8dbb392f4d</td>\n",
              "      <td>2016-03-09 15:05:00+00:00 00:00:00+00:00</td>\n",
              "      <td>Alannah Kittle</td>\n",
              "      <td>NaN</td>\n",
              "      <td>NaN</td>\n",
              "      <td>1.0</td>\n",
              "      <td>coding\\n\\ncode qualitative data for wavguagea</td>\n",
              "      <td>CODING\\n\\nCode qualitative data for WAVGUAGE03A</td>\n",
              "      <td>0</td>\n",
              "      <td>...</td>\n",
              "      <td>0.0</td>\n",
              "      <td>0.0</td>\n",
              "      <td>KEEP</td>\n",
              "      <td>INFORMATION EXCHANGE</td>\n",
              "      <td>PROVIDED</td>\n",
              "      <td>REFERENCE</td>\n",
              "      <td>POTENTIAL_CHANGE</td>\n",
              "      <td>NaN</td>\n",
              "      <td>2016-03-09</td>\n",
              "      <td>15:05:00</td>\n",
              "    </tr>\n",
              "  </tbody>\n",
              "</table>\n",
              "<p>5 rows × 33 columns</p>\n",
              "</div>"
            ],
            "text/plain": [
              "                                file_id                            comment_id  \\\n",
              "0  ed88fa24-1a89-44fb-9a66-c7f554d87f5d  ffc97358-69e6-48fb-aaf0-6a844e26f653   \n",
              "1  0c9c7a44-8bae-4bcf-a271-1b54ab0ef41e  ffa706dc-4877-492d-ac74-598d5f4d07c5   \n",
              "2  0c9c7a44-8bae-4bcf-a271-1b54ab0ef41e  ffa706dc-4877-492d-ac74-598d5f4d07c5   \n",
              "3  0c9c7a44-8bae-4bcf-a271-1b54ab0ef41e  ffa706dc-4877-492d-ac74-598d5f4d07c5   \n",
              "4  f5208894-9572-4cb8-b023-00b3c03cee89  ff533813-4050-424d-8e01-3c8dbb392f4d   \n",
              "\n",
              "                               comment_date       anonymized_nickname  \\\n",
              "0  2013-04-09 09:30:00+00:00 00:00:00+00:00                    Editor   \n",
              "1  2011-12-08 15:51:00+00:00 00:00:00+00:00  Alicia R. Dalton-Tingler   \n",
              "2  2011-12-08 15:51:00+00:00 00:00:00+00:00  Alicia R. Dalton-Tingler   \n",
              "3  2011-12-08 15:51:00+00:00 00:00:00+00:00  Alicia R. Dalton-Tingler   \n",
              "4  2016-03-09 15:05:00+00:00 00:00:00+00:00            Alannah Kittle   \n",
              "\n",
              "                             document_paragraph_text document_selected_text  \\\n",
              "0  The experiments were carried out in a fluidize...                    NaN   \n",
              "1  In addition to the work mentioned above, the E...                    NaN   \n",
              "2  In addition to the work mentioned above, the E...                    NaN   \n",
              "3  In addition to the work mentioned above, the E...                    NaN   \n",
              "4                                                NaN                    NaN   \n",
              "\n",
              "   document_selected_sentences  \\\n",
              "0                          1.0   \n",
              "1                          1.0   \n",
              "2                          1.0   \n",
              "3                          1.0   \n",
              "4                          1.0   \n",
              "\n",
              "                                   comment_full_text  \\\n",
              "0                                                 ok   \n",
              "1  this has been discussed in the executive summa...   \n",
              "2  this has been discussed in the executive summa...   \n",
              "3  this has been discussed in the executive summa...   \n",
              "4      coding\\n\\ncode qualitative data for wavguagea   \n",
              "\n",
              "                               comment_sentence_text  is_sentence  ...  \\\n",
              "0                                                Ok?            0  ...   \n",
              "1  This has been discussed in the Executive Summa...            1  ...   \n",
              "2    It is, however, very out of place sitting here.            1  ...   \n",
              "3  This has been discussed in the Executive Summa...            0  ...   \n",
              "4    CODING\\n\\nCode qualitative data for WAVGUAGE03A            0  ...   \n",
              "\n",
              "   spelling_errors  tracked_changes  next_action               level_0  \\\n",
              "0              0.0              2.0         KEEP  INFORMATION EXCHANGE   \n",
              "1              0.0              1.0         KEEP          MODIFICATION   \n",
              "2              0.0              1.0         KEEP  SOCIAL COMMUNICATION   \n",
              "3              0.0              1.0         KEEP          MODIFICATION   \n",
              "4              0.0              0.0         KEEP  INFORMATION EXCHANGE   \n",
              "\n",
              "      level_1                  level_2               level_3  level_4  \\\n",
              "0   REQUESTED  REQUESTING_CONFIRMATION      POTENTIAL_CHANGE      NaN   \n",
              "1   EXECUTION                  PROMISE                   NaN      NaN   \n",
              "2  DISCUSSION                  CONTENT  NOT_POTENTIAL_CHANGE      NaN   \n",
              "3   REQUESTED                  CONTENT              EXPLICIT      NaN   \n",
              "4    PROVIDED                REFERENCE      POTENTIAL_CHANGE      NaN   \n",
              "\n",
              "   date_column time_column  \n",
              "0   2013-04-09    09:30:00  \n",
              "1   2011-12-08    15:51:00  \n",
              "2   2011-12-08    15:51:00  \n",
              "3   2011-12-08    15:51:00  \n",
              "4   2016-03-09    15:05:00  \n",
              "\n",
              "[5 rows x 33 columns]"
            ]
          },
          "execution_count": 5,
          "metadata": {},
          "output_type": "execute_result"
        }
      ],
      "source": [
        "df.head()"
      ]
    },
    {
      "cell_type": "code",
      "execution_count": null,
      "id": "5fe3fd95",
      "metadata": {
        "id": "5fe3fd95",
        "outputId": "9c74c3d8-e3b7-47e3-f83f-3d8b095a61f1"
      },
      "outputs": [
        {
          "name": "stdout",
          "output_type": "stream",
          "text": [
            "<class 'pandas.core.frame.DataFrame'>\n",
            "RangeIndex: 4991 entries, 0 to 4990\n",
            "Data columns (total 33 columns):\n",
            " #   Column                       Non-Null Count  Dtype  \n",
            "---  ------                       --------------  -----  \n",
            " 0   file_id                      4991 non-null   object \n",
            " 1   comment_id                   4991 non-null   object \n",
            " 2   comment_date                 4991 non-null   object \n",
            " 3   anonymized_nickname          4976 non-null   object \n",
            " 4   document_paragraph_text      4502 non-null   object \n",
            " 5   document_selected_text       3990 non-null   object \n",
            " 6   document_selected_sentences  4991 non-null   float64\n",
            " 7   comment_full_text            4991 non-null   object \n",
            " 8   comment_sentence_text        4991 non-null   object \n",
            " 9   is_sentence                  4991 non-null   int64  \n",
            " 10  num_sentence                 4991 non-null   int64  \n",
            " 11  total_sentences              4991 non-null   int64  \n",
            " 12  grammar_checked              4991 non-null   int64  \n",
            " 13  grammatical_errors           4991 non-null   int64  \n",
            " 14  has_replies                  4991 non-null   int64  \n",
            " 15  is_reply                     4991 non-null   int64  \n",
            " 16  num_reply                    4991 non-null   int64  \n",
            " 17  num_replies                  4991 non-null   int64  \n",
            " 18  is_resolved                  4991 non-null   int64  \n",
            " 19  language_name                4951 non-null   object \n",
            " 20  num_hyperlinks               4991 non-null   int64  \n",
            " 21  num_images                   4991 non-null   int64  \n",
            " 22  spelling_checked             4991 non-null   float64\n",
            " 23  spelling_errors              4991 non-null   float64\n",
            " 24  tracked_changes              4991 non-null   float64\n",
            " 25  next_action                  4991 non-null   object \n",
            " 26  level_0                      4991 non-null   object \n",
            " 27  level_1                      4718 non-null   object \n",
            " 28  level_2                      4689 non-null   object \n",
            " 29  level_3                      4416 non-null   object \n",
            " 30  level_4                      1511 non-null   object \n",
            " 31  date_column                  4991 non-null   object \n",
            " 32  time_column                  4991 non-null   object \n",
            "dtypes: float64(4), int64(12), object(17)\n",
            "memory usage: 1.3+ MB\n"
          ]
        }
      ],
      "source": [
        "df.info()"
      ]
    },
    {
      "cell_type": "markdown",
      "id": "e8413529-1621-45bc-9865-eab9a2346d1e",
      "metadata": {
        "id": "e8413529-1621-45bc-9865-eab9a2346d1e"
      },
      "source": [
        "# XML_CNN (Level_0 and Level_1)"
      ]
    },
    {
      "cell_type": "code",
      "execution_count": null,
      "id": "e80263ba-fa94-46ec-9f27-8889d940b343",
      "metadata": {
        "id": "e80263ba-fa94-46ec-9f27-8889d940b343"
      },
      "outputs": [],
      "source": [
        "import pandas as pd\n",
        "from sklearn.model_selection import train_test_split\n",
        "from sklearn.preprocessing import MultiLabelBinarizer\n",
        "import torch\n",
        "from torch.utils.data import Dataset, DataLoader\n",
        "from transformers import BertTokenizer\n",
        "\n",
        "# Load dataset\n",
        "df_1 = pd.read_csv('labeled_comments_cleaned.csv')\n",
        "\n",
        "# Ensure all entries are strings and handle NaNs\n",
        "df_1['level_0'] = df_1['level_0'].astype(str)\n",
        "df_1['level_1'] = df_1['level_1'].astype(str)\n",
        "\n",
        "# Combine two label columns into a list of labels per row\n",
        "df_1['combined_labels'] = df_1[['level_0', 'level_1']].apply(lambda row: [x for x in row if x != 'nan'], axis=1)\n",
        "\n",
        "# Initialize MultiLabelBinarizer\n",
        "mlb = MultiLabelBinarizer()\n",
        "y = mlb.fit_transform(df_1['combined_labels'])\n",
        "\n",
        "# Selecting the feature variable\n",
        "X = df_1['comment_full_text']\n",
        "\n",
        "# Split the dataset into training and testing sets\n",
        "X_train, X_test, y_train, y_test = train_test_split(X, y, test_size=0.2, random_state=42)\n",
        "\n",
        "# Define the TextDataset class\n",
        "class TextDataset(Dataset):\n",
        "    def __init__(self, texts, labels, tokenizer, max_len=512):\n",
        "        self.texts = texts.reset_index(drop=True)\n",
        "        self.labels = labels\n",
        "        self.tokenizer = tokenizer\n",
        "        self.max_len = max_len\n",
        "\n",
        "    def __len__(self):\n",
        "        return len(self.texts)\n",
        "\n",
        "    def __getitem__(self, idx):\n",
        "        text = self.texts[idx]\n",
        "        label = self.labels[idx]\n",
        "        tokenized = self.tokenizer.encode_plus(\n",
        "            text,\n",
        "            add_special_tokens=True,\n",
        "            max_length=self.max_len,\n",
        "            padding='max_length',\n",
        "            truncation=True,\n",
        "            return_tensors='pt'\n",
        "        )\n",
        "        input_ids = tokenized['input_ids'].squeeze(0)\n",
        "        attention_mask = tokenized['attention_mask'].squeeze(0)\n",
        "        return {\n",
        "            'input_ids': input_ids,\n",
        "            'attention_mask': attention_mask,\n",
        "            'labels': torch.FloatTensor(label)\n",
        "        }\n",
        "\n",
        "# Initialize tokenizer\n",
        "tokenizer = BertTokenizer.from_pretrained('bert-base-uncased')\n",
        "\n",
        "# Create dataset and dataloader\n",
        "train_dataset = TextDataset(X_train, y_train, tokenizer)\n",
        "test_dataset = TextDataset(X_test, y_test, tokenizer)\n",
        "train_loader = DataLoader(train_dataset, batch_size=32, shuffle=True)\n",
        "test_loader = DataLoader(test_dataset, batch_size=32)\n"
      ]
    },
    {
      "cell_type": "code",
      "execution_count": null,
      "id": "6702af4c-e3d0-492e-b6e5-42f94e2a5e59",
      "metadata": {
        "id": "6702af4c-e3d0-492e-b6e5-42f94e2a5e59"
      },
      "outputs": [],
      "source": [
        "import torch\n",
        "import torch.nn as nn\n",
        "import torch.nn.functional as F\n",
        "\n",
        "class XMLCNN(nn.Module):\n",
        "    def __init__(self, vocab_size, embed_dim, num_labels, num_filters, filter_sizes):\n",
        "        super(XMLCNN, self).__init__()\n",
        "        self.embedding = nn.Embedding(vocab_size, embed_dim)\n",
        "        self.convs = nn.ModuleList([\n",
        "            nn.Conv2d(1, num_filters, (fs, embed_dim)) for fs in filter_sizes\n",
        "        ])\n",
        "        self.fc = nn.Linear(num_filters * len(filter_sizes), num_labels)\n",
        "\n",
        "    def forward(self, input_ids):\n",
        "        x = self.embedding(input_ids)  # [batch_size, sequence_length, embed_dim]\n",
        "        x = x.unsqueeze(1)  # Add channel dimension [batch_size, 1, sequence_length, embed_dim]\n",
        "        x = [F.relu(conv(x)).squeeze(3) for conv in self.convs]  # Apply convolution and ReLU\n",
        "        x = [F.max_pool1d(line, line.size(2)).squeeze(2) for line in x]  # Max pooling over the time dimension\n",
        "        x = torch.cat(x, 1)  # Concatenate along the filter dimension\n",
        "        x = self.fc(x)\n",
        "        return x\n",
        "\n",
        "# Initialize the XML-CNN model\n",
        "vocab_size = tokenizer.vocab_size\n",
        "embed_dim = 128\n",
        "num_labels = y_train.shape[1]\n",
        "num_filters = 100\n",
        "filter_sizes = [3, 4, 5]\n",
        "\n",
        "model = XMLCNN(vocab_size, embed_dim, num_labels, num_filters, filter_sizes)\n"
      ]
    },
    {
      "cell_type": "code",
      "execution_count": null,
      "id": "6e4d5c9c-c8f8-4dfb-a2b1-85c4b3ed1558",
      "metadata": {
        "id": "6e4d5c9c-c8f8-4dfb-a2b1-85c4b3ed1558",
        "outputId": "5f8ec53d-856c-46c8-c23e-387d4f5de807"
      },
      "outputs": [
        {
          "name": "stdout",
          "output_type": "stream",
          "text": [
            "Epoch 1, Loss: 0.3111246348619461\n",
            "Epoch 2, Loss: 0.21860502350330352\n",
            "Epoch 3, Loss: 0.18405429023504258\n",
            "Epoch 4, Loss: 0.15839178550243377\n",
            "Epoch 5, Loss: 0.1488894301056862\n",
            "Epoch 6, Loss: 0.14077553793787956\n",
            "Epoch 7, Loss: 0.13570023715496063\n",
            "Epoch 8, Loss: 0.13273277488350868\n",
            "Epoch 9, Loss: 0.12911795789003372\n",
            "Epoch 10, Loss: 0.13052999532222748\n"
          ]
        }
      ],
      "source": [
        "import torch.optim as optim\n",
        "\n",
        "# Define loss function and optimizer\n",
        "criterion = nn.BCEWithLogitsLoss()\n",
        "optimizer = optim.Adam(model.parameters(), lr=0.001)\n",
        "\n",
        "# Training loop\n",
        "num_epochs = 10\n",
        "for epoch in range(num_epochs):\n",
        "    model.train()\n",
        "    total_loss = 0\n",
        "    for batch in train_loader:\n",
        "        optimizer.zero_grad()\n",
        "        outputs = model(batch['input_ids'])\n",
        "        loss = criterion(outputs, batch['labels'])\n",
        "        loss.backward()\n",
        "        optimizer.step()\n",
        "        total_loss += loss.item()\n",
        "    print(f'Epoch {epoch + 1}, Loss: {total_loss / len(train_loader)}')\n"
      ]
    },
    {
      "cell_type": "code",
      "execution_count": null,
      "id": "3daac2e5-74b6-4a89-9239-94c303ff035d",
      "metadata": {
        "id": "3daac2e5-74b6-4a89-9239-94c303ff035d",
        "outputId": "a1f9bed8-f24e-44d3-acb6-6d36068ae6d1"
      },
      "outputs": [
        {
          "name": "stdout",
          "output_type": "stream",
          "text": [
            "Accuracy: 0.6216216216216216, Precision: 0.7619047619047619, Recall: 0.7212435233160622, F1 Score: 0.7410167686984296\n"
          ]
        }
      ],
      "source": [
        "from sklearn.metrics import accuracy_score, precision_score, recall_score, f1_score\n",
        "\n",
        "def evaluate_model(model, data_loader):\n",
        "    model.eval()\n",
        "    true_labels = []\n",
        "    predictions = []\n",
        "\n",
        "    with torch.no_grad():\n",
        "        for batch in data_loader:\n",
        "            outputs = model(batch['input_ids'])\n",
        "            predicted_labels = torch.sigmoid(outputs) > 0.5\n",
        "            true_labels.append(batch['labels'].cpu())\n",
        "            predictions.append(predicted_labels.cpu())\n",
        "\n",
        "    true_labels = torch.cat(true_labels, dim=0).numpy()\n",
        "    predictions = torch.cat(predictions, dim=0).numpy()\n",
        "\n",
        "    accuracy = accuracy_score(true_labels, predictions)\n",
        "    precision = precision_score(true_labels, predictions, average='micro')\n",
        "    recall = recall_score(true_labels, predictions, average='micro')\n",
        "    f1 = f1_score(true_labels, predictions, average='micro')\n",
        "\n",
        "    print(f\"Accuracy: {accuracy}, Precision: {precision}, Recall: {recall}, F1 Score: {f1}\")\n",
        "\n",
        "# Evaluate the model\n",
        "evaluate_model(model, test_loader)\n"
      ]
    },
    {
      "cell_type": "code",
      "execution_count": null,
      "id": "a0802d23-970c-4253-b268-4ec0861f9038",
      "metadata": {
        "id": "a0802d23-970c-4253-b268-4ec0861f9038",
        "outputId": "87701c32-2787-4cf5-e8c5-5ba4798020de"
      },
      "outputs": [
        {
          "name": "stdout",
          "output_type": "stream",
          "text": [
            "Accuracy: 0.6216216216216216\n",
            "Precision: 0.7619047619047619\n",
            "Recall: 0.7212435233160622\n",
            "F1 Score: 0.7410167686984296\n",
            "Mean Squared Error: 0.07416366040706635\n",
            "Test Error Rate: 0.3783783783783784\n",
            "Confusion Matrix:\n",
            "[[  3   2   0   0   1   0   0   0   0]\n",
            " [  5  12   0   0   9   3   1   1   1]\n",
            " [  4   1  39   1   9   9   1   1   0]\n",
            " [  6   6   0  14   8   1   1   1   6]\n",
            " [ 13   4   3   0 426  56   0   5   1]\n",
            " [ 16   3   0   1  73 175   2   5   2]\n",
            " [  9   0   0   1   9   1  46   1   1]\n",
            " [  0   0   0   0   0   0   0   0   0]\n",
            " [  0   0   0   0   0   0   0   0   0]]\n"
          ]
        }
      ],
      "source": [
        "from sklearn.metrics import accuracy_score, precision_score, recall_score, f1_score, confusion_matrix, mean_squared_error\n",
        "def evaluate_model(model, data_loader):\n",
        "    model.eval()\n",
        "    true_labels = []\n",
        "    predictions = []\n",
        "    outputs_list = []\n",
        "\n",
        "    with torch.no_grad():\n",
        "        for batch in data_loader:\n",
        "            inputs = batch['input_ids']\n",
        "            labels = batch['labels']\n",
        "            outputs = model(inputs)\n",
        "            predicted_labels = torch.sigmoid(outputs) > 0.5\n",
        "            true_labels.append(labels.cpu())\n",
        "            predictions.append(predicted_labels.cpu())\n",
        "            outputs_list.append(torch.sigmoid(outputs).cpu())\n",
        "\n",
        "    # Concatenate all the results\n",
        "    true_labels = torch.cat(true_labels, dim=0).numpy()\n",
        "    predictions = torch.cat(predictions, dim=0).numpy()\n",
        "    outputs_list = torch.cat(outputs_list, dim=0).numpy()\n",
        "\n",
        "    # Calculate metrics\n",
        "    accuracy = accuracy_score(true_labels, predictions)\n",
        "    precision = precision_score(true_labels, predictions, average='micro')\n",
        "    recall = recall_score(true_labels, predictions, average='micro')\n",
        "    f1 = f1_score(true_labels, predictions, average='micro')\n",
        "    mse = mean_squared_error(true_labels, outputs_list)\n",
        "    test_error_rate = 1 - accuracy\n",
        "    conf_matrix = confusion_matrix(true_labels.argmax(axis=1), predictions.argmax(axis=1))\n",
        "\n",
        "    print(f\"Accuracy: {accuracy}\")\n",
        "    print(f\"Precision: {precision}\")\n",
        "    print(f\"Recall: {recall}\")\n",
        "    print(f\"F1 Score: {f1}\")\n",
        "    print(f\"Mean Squared Error: {mse}\")\n",
        "    print(f\"Test Error Rate: {test_error_rate}\")\n",
        "    print(\"Confusion Matrix:\")\n",
        "    print(conf_matrix)\n",
        "\n",
        "# Call the evaluation function\n",
        "evaluate_model(model, test_loader)\n"
      ]
    },
    {
      "cell_type": "code",
      "execution_count": null,
      "id": "1b2200c9-2584-49dd-b1e2-140804542936",
      "metadata": {
        "id": "1b2200c9-2584-49dd-b1e2-140804542936",
        "outputId": "08266913-8244-45d9-f534-d4b2fb2f1abd"
      },
      "outputs": [
        {
          "data": {
            "image/png": "[encoded data removed]",
            "text/plain": [
              "<Figure size 1000x700 with 1 Axes>"
            ]
          },
          "metadata": {},
          "output_type": "display_data"
        }
      ],
      "source": [
        "import matplotlib.pyplot as plt\n",
        "import seaborn as sns\n",
        "import torch\n",
        "from sklearn.metrics import confusion_matrix\n",
        "import numpy as np\n",
        "\n",
        "def get_predictions_and_true_labels(model, data_loader):\n",
        "    model.eval()\n",
        "    all_predictions = []\n",
        "    all_true_labels = []\n",
        "\n",
        "    with torch.no_grad():\n",
        "        for batch in data_loader:\n",
        "            inputs, true_labels = batch['input_ids'], batch['labels']\n",
        "            logits = model(inputs)\n",
        "            predictions = torch.sigmoid(logits) > 0.5\n",
        "            all_predictions.extend(predictions.cpu().numpy())\n",
        "            all_true_labels.extend(true_labels.cpu().numpy())\n",
        "\n",
        "    return np.array(all_true_labels), np.array(all_predictions)\n",
        "\n",
        "def plot_confusion_matrix(true_labels, predictions, class_names):\n",
        "    # Flatten the one-hot encoded labels to a single label per example\n",
        "    true_labels = np.argmax(true_labels, axis=1)\n",
        "    predictions = np.argmax(predictions, axis=1)\n",
        "\n",
        "    # Calculate the confusion matrix\n",
        "    cm = confusion_matrix(true_labels, predictions)\n",
        "\n",
        "    # Plot the confusion matrix\n",
        "    plt.figure(figsize=(10, 7))\n",
        "    sns.heatmap(cm, annot=True, fmt='d', cmap='Blues', xticklabels=class_names, yticklabels=class_names, cbar=False)\n",
        "    plt.xlabel('Predicted')\n",
        "    plt.ylabel('Actual')\n",
        "    plt.title('Confusion Matrix')\n",
        "    plt.show()\n",
        "\n",
        "true_labels, predictions = get_predictions_and_true_labels(model, test_loader)\n",
        "\n",
        "\n",
        "class_names = mlb.classes_  # mlb is your MultiLabelBinarizer\n",
        "\n",
        "plot_confusion_matrix(true_labels, predictions, class_names)\n"
      ]
    },
    {
      "cell_type": "code",
      "execution_count": null,
      "id": "f603107f-229c-4c0a-a2e6-038166d40738",
      "metadata": {
        "id": "f603107f-229c-4c0a-a2e6-038166d40738",
        "outputId": "d71a968e-ed5d-4136-f01c-96c6d343cac5"
      },
      "outputs": [
        {
          "name": "stdout",
          "output_type": "stream",
          "text": [
            "Predicted labels for 'level_0' and 'level_1': ['INFORMATION EXCHANGE', 'REQUESTED']\n",
            "Probabilities for each class: tensor([7.6639e-04, 1.3641e-02, 5.0413e-04, 2.3086e-04, 9.8075e-01, 2.0931e-02,\n",
            "        4.0097e-04, 5.0811e-03, 9.8975e-01, 5.0424e-03])\n"
          ]
        }
      ],
      "source": [
        "def predict_text(model, tokenizer, text, class_names, max_len=512, threshold=0.5):\n",
        "    model.eval()  # Ensure the model is in evaluation mode\n",
        "\n",
        "    # Prepare the text input for the model\n",
        "    with torch.no_grad():\n",
        "        inputs = tokenizer.encode_plus(\n",
        "            text,\n",
        "            add_special_tokens=True,\n",
        "            max_length=max_len,\n",
        "            padding='max_length',\n",
        "            truncation=True,\n",
        "            return_tensors='pt'\n",
        "        )\n",
        "\n",
        "        input_ids = inputs['input_ids']\n",
        "\n",
        "        # Forward pass to get logits\n",
        "        outputs = model(input_ids)\n",
        "\n",
        "        # Convert logits to probabilities using sigmoid function\n",
        "        probabilities = torch.sigmoid(outputs).squeeze(0)\n",
        "\n",
        "        # Apply threshold to determine labels presence\n",
        "        predictions = (probabilities > threshold).int()\n",
        "\n",
        "        # Map predictions to class names\n",
        "        predicted_labels = [class_names[i] for i, pred in enumerate(predictions) if pred == 1]\n",
        "\n",
        "    return predicted_labels, probabilities\n",
        "\n",
        "# Example usage:\n",
        "text = \"Can we set up a meeting to review these results?\"\n",
        "class_names = mlb.classes_\n",
        "predicted_labels, probabilities = predict_text(model, tokenizer, text, class_names)\n",
        "print(f\"Predicted labels for 'level_0' and 'level_1': {predicted_labels}\")\n",
        "print(f\"Probabilities for each class: {probabilities}\")\n"
      ]
    },
    {
      "cell_type": "code",
      "execution_count": null,
      "id": "5aad51f8-441e-4d26-afba-6188d695fdae",
      "metadata": {
        "id": "5aad51f8-441e-4d26-afba-6188d695fdae"
      },
      "outputs": [],
      "source": [
        "torch.save(model.state_dict(), 'path_to_saved_model.pth')\n"
      ]
    },
    {
      "cell_type": "code",
      "execution_count": null,
      "id": "94d1a790-58d6-45ac-ba50-4266873e1c3b",
      "metadata": {
        "id": "94d1a790-58d6-45ac-ba50-4266873e1c3b",
        "outputId": "86c31990-8448-4b72-ee68-15117e6aa99b"
      },
      "outputs": [
        {
          "data": {
            "text/plain": [
              "XMLCNN(\n",
              "  (embedding): Embedding(30522, 128)\n",
              "  (convs): ModuleList(\n",
              "    (0): Conv2d(1, 100, kernel_size=(3, 128), stride=(1, 1))\n",
              "    (1): Conv2d(1, 100, kernel_size=(4, 128), stride=(1, 1))\n",
              "    (2): Conv2d(1, 100, kernel_size=(5, 128), stride=(1, 1))\n",
              "  )\n",
              "  (fc): Linear(in_features=300, out_features=10, bias=True)\n",
              ")"
            ]
          },
          "execution_count": 17,
          "metadata": {},
          "output_type": "execute_result"
        }
      ],
      "source": [
        "model = XMLCNN(vocab_size, embed_dim, num_labels, num_filters, filter_sizes)\n",
        "model.load_state_dict(torch.load('path_to_saved_model.pth'))\n",
        "model.eval()\n"
      ]
    },
    {
      "cell_type": "code",
      "execution_count": null,
      "id": "681152fb-9ed5-428d-826c-044f11444c47",
      "metadata": {
        "id": "681152fb-9ed5-428d-826c-044f11444c47",
        "outputId": "86eb5f3c-738b-4a11-9c51-0b2d193b5b07"
      },
      "outputs": [
        {
          "name": "stdout",
          "output_type": "stream",
          "text": [
            "Predicted Labels: ['EXECUTION', 'MODIFICATION']\n"
          ]
        }
      ],
      "source": [
        "new_text = \"This has been discussed in the Executive Summary via a table and will likely be covered in great depth later in this report.\"\n",
        "predicted_labels, probabilities = predict_text(model, tokenizer, new_text, class_names)\n",
        "print(f\"Predicted Labels: {predicted_labels}\")\n"
      ]
    },
    {
      "cell_type": "code",
      "execution_count": null,
      "id": "64ea38f5-38c9-4e46-9875-8bea1e6b82d9",
      "metadata": {
        "id": "64ea38f5-38c9-4e46-9875-8bea1e6b82d9",
        "outputId": "ba0aa448-f165-44d2-efea-3e526911beea"
      },
      "outputs": [
        {
          "name": "stdout",
          "output_type": "stream",
          "text": [
            "Predicted Labels: ['MODIFICATION', 'REQUESTED']\n"
          ]
        }
      ],
      "source": [
        "new_text = \"Try not to use the same words back to back.\"\n",
        "predicted_labels, probabilities = predict_text(model, tokenizer, new_text, class_names)\n",
        "print(f\"Predicted Labels: {predicted_labels}\")\n"
      ]
    },
    {
      "cell_type": "code",
      "execution_count": null,
      "id": "cbfeac36-9dba-41d7-965c-653a48596a8b",
      "metadata": {
        "id": "cbfeac36-9dba-41d7-965c-653a48596a8b",
        "outputId": "64533e46-c2e0-45cb-ed64-c089f4131b41"
      },
      "outputs": [
        {
          "name": "stdout",
          "output_type": "stream",
          "text": [
            "Predicted Labels: ['INFORMATION EXCHANGE', 'REQUESTED']\n"
          ]
        }
      ],
      "source": [
        "new_text = \"Does this sentence say exactly what you mean? I.e. our sense of contingency is one among others?\"\n",
        "predicted_labels, probabilities = predict_text(model, tokenizer, new_text, class_names)\n",
        "print(f\"Predicted Labels: {predicted_labels}\")\n"
      ]
    },
    {
      "cell_type": "code",
      "execution_count": null,
      "id": "236f1b81-d0fc-468c-ad6e-a2a4f8a96042",
      "metadata": {
        "id": "236f1b81-d0fc-468c-ad6e-a2a4f8a96042",
        "outputId": "dc3debc1-481f-428b-c5d8-123c93cbd9be"
      },
      "outputs": [
        {
          "name": "stdout",
          "output_type": "stream",
          "text": [
            "Predicted Labels: ['FEEDBACK', 'SOCIAL COMMUNICATION']\n"
          ]
        }
      ],
      "source": [
        "new_text = '''A very nice observation. The notion that the change in the\n",
        "speaker’s attitude is dramatized by his changing uses of language is very powerful.'''\n",
        "predicted_labels, probabilities = predict_text(model, tokenizer, new_text, class_names)\n",
        "print(f\"Predicted Labels: {predicted_labels}\")"
      ]
    },
    {
      "cell_type": "markdown",
      "id": "fadca6bc-9ee1-4376-83a1-3f8ddb67806a",
      "metadata": {
        "id": "fadca6bc-9ee1-4376-83a1-3f8ddb67806a"
      },
      "source": [
        "# Bert"
      ]
    },
    {
      "cell_type": "code",
      "execution_count": null,
      "id": "54e11260-915d-4a21-a425-54b8870fcd2f",
      "metadata": {
        "id": "54e11260-915d-4a21-a425-54b8870fcd2f"
      },
      "outputs": [],
      "source": [
        "import pandas as pd\n",
        "from sklearn.model_selection import train_test_split\n",
        "from sklearn.preprocessing import MultiLabelBinarizer\n",
        "\n",
        "# Load dataset\n",
        "df = pd.read_csv('labeled_comments_cleaned.csv')\n",
        "\n",
        "# Ensure all data in 'level_0' and 'level_1' are strings, and handle NaNs\n",
        "df['level_0'] = df['level_0'].fillna('Unknown').astype(str)\n",
        "df['level_1'] = df['level_1'].fillna('Unknown').astype(str)\n",
        "\n",
        "# Combine two label columns into a list of labels per row\n",
        "df['combined_labels'] = df.apply(lambda row: [row['level_0'], row['level_1']], axis=1)\n",
        "\n",
        "# Initialize MultiLabelBinarizer\n",
        "mlb = MultiLabelBinarizer()\n",
        "y = mlb.fit_transform(df['combined_labels'].values.tolist())\n",
        "\n",
        "# Selecting the feature variable\n",
        "X = df['comment_full_text']\n",
        "\n",
        "# Split the dataset into training and testing sets\n",
        "X_train, X_test, y_train, y_test = train_test_split(X, y, test_size=0.2, random_state=42)\n"
      ]
    },
    {
      "cell_type": "code",
      "execution_count": null,
      "id": "b26a451c-c8b0-4a32-94ef-5fd5642df28f",
      "metadata": {
        "id": "b26a451c-c8b0-4a32-94ef-5fd5642df28f",
        "outputId": "f968f171-5982-4cb8-e862-624392a96e52"
      },
      "outputs": [
        {
          "name": "stderr",
          "output_type": "stream",
          "text": [
            "Some weights of BertForSequenceClassification were not initialized from the model checkpoint at bert-base-uncased and are newly initialized: ['classifier.bias', 'classifier.weight']\n",
            "You should probably TRAIN this model on a down-stream task to be able to use it for predictions and inference.\n"
          ]
        },
        {
          "data": {
            "text/plain": [
              "BertForSequenceClassification(\n",
              "  (bert): BertModel(\n",
              "    (embeddings): BertEmbeddings(\n",
              "      (word_embeddings): Embedding(30522, 768, padding_idx=0)\n",
              "      (position_embeddings): Embedding(512, 768)\n",
              "      (token_type_embeddings): Embedding(2, 768)\n",
              "      (LayerNorm): LayerNorm((768,), eps=1e-12, elementwise_affine=True)\n",
              "      (dropout): Dropout(p=0.1, inplace=False)\n",
              "    )\n",
              "    (encoder): BertEncoder(\n",
              "      (layer): ModuleList(\n",
              "        (0-11): 12 x BertLayer(\n",
              "          (attention): BertAttention(\n",
              "            (self): BertSelfAttention(\n",
              "              (query): Linear(in_features=768, out_features=768, bias=True)\n",
              "              (key): Linear(in_features=768, out_features=768, bias=True)\n",
              "              (value): Linear(in_features=768, out_features=768, bias=True)\n",
              "              (dropout): Dropout(p=0.1, inplace=False)\n",
              "            )\n",
              "            (output): BertSelfOutput(\n",
              "              (dense): Linear(in_features=768, out_features=768, bias=True)\n",
              "              (LayerNorm): LayerNorm((768,), eps=1e-12, elementwise_affine=True)\n",
              "              (dropout): Dropout(p=0.1, inplace=False)\n",
              "            )\n",
              "          )\n",
              "          (intermediate): BertIntermediate(\n",
              "            (dense): Linear(in_features=768, out_features=3072, bias=True)\n",
              "            (intermediate_act_fn): GELUActivation()\n",
              "          )\n",
              "          (output): BertOutput(\n",
              "            (dense): Linear(in_features=3072, out_features=768, bias=True)\n",
              "            (LayerNorm): LayerNorm((768,), eps=1e-12, elementwise_affine=True)\n",
              "            (dropout): Dropout(p=0.1, inplace=False)\n",
              "          )\n",
              "        )\n",
              "      )\n",
              "    )\n",
              "    (pooler): BertPooler(\n",
              "      (dense): Linear(in_features=768, out_features=768, bias=True)\n",
              "      (activation): Tanh()\n",
              "    )\n",
              "  )\n",
              "  (dropout): Dropout(p=0.1, inplace=False)\n",
              "  (classifier): Linear(in_features=768, out_features=11, bias=True)\n",
              ")"
            ]
          },
          "execution_count": 28,
          "metadata": {},
          "output_type": "execute_result"
        }
      ],
      "source": [
        "from transformers import BertForSequenceClassification, AdamW\n",
        "\n",
        "# Load the BERT model, specifying the number of output labels\n",
        "model = BertForSequenceClassification.from_pretrained(\n",
        "    'bert-base-uncased',\n",
        "    num_labels=y_train.shape[1],  # Number of output labels in the last layer for multi-label classification\n",
        "    output_attentions=False,      # Whether the model returns attentions weights.\n",
        "    output_hidden_states=False,   # Whether the model returns all hidden-states.\n",
        ")\n",
        "\n",
        "# Move model to GPU if available\n",
        "device = torch.device('cuda' if torch.cuda.is_available() else 'cpu')\n",
        "model.to(device)\n"
      ]
    },
    {
      "cell_type": "code",
      "execution_count": null,
      "id": "29d5699a-dcb8-4e32-bda6-d8c721c870c4",
      "metadata": {
        "id": "29d5699a-dcb8-4e32-bda6-d8c721c870c4"
      },
      "outputs": [],
      "source": [
        "from torch.utils.data import DataLoader\n",
        "\n",
        "train_dataset = TextDataset(X_train, y_train, tokenizer)\n",
        "test_dataset = TextDataset(X_test, y_test, tokenizer)\n",
        "\n",
        "train_loader = DataLoader(train_dataset, batch_size=16, shuffle=True)\n",
        "test_loader = DataLoader(test_dataset, batch_size=16)\n"
      ]
    },
    {
      "cell_type": "code",
      "execution_count": null,
      "id": "ae100e97-ea56-4809-9365-84a0e0446aed",
      "metadata": {
        "id": "ae100e97-ea56-4809-9365-84a0e0446aed",
        "outputId": "bc296146-6ef2-490d-e6a6-f9b407b4632c"
      },
      "outputs": [
        {
          "name": "stdout",
          "output_type": "stream",
          "text": [
            "Average training loss: 0.33\n",
            "Average training loss: 0.21\n",
            "Average training loss: 0.17\n",
            "Average training loss: 0.15\n",
            "Average training loss: 0.13\n",
            "Average training loss: 0.13\n",
            "Average training loss: 0.12\n",
            "Average training loss: 0.11\n",
            "Average training loss: 0.11\n",
            "Average training loss: 0.11\n"
          ]
        }
      ],
      "source": [
        "from torch.optim import AdamW\n",
        "from torch.nn import BCEWithLogitsLoss\n",
        "\n",
        "optimizer = AdamW(model.parameters(), lr=2e-5, eps=1e-8)\n",
        "criterion = BCEWithLogitsLoss()\n",
        "\n",
        "# Training loop\n",
        "model.train()\n",
        "for epoch in range(10):  # Set number of epochs\n",
        "    total_loss = 0\n",
        "    for batch in train_loader:\n",
        "        batch_input_ids = batch['input_ids'].to(device)\n",
        "        batch_attention_mask = batch['attention_mask'].to(device)\n",
        "        batch_labels = batch['labels'].to(device)\n",
        "\n",
        "        model.zero_grad()\n",
        "        outputs = model(batch_input_ids, token_type_ids=None, attention_mask=batch_attention_mask)\n",
        "\n",
        "        loss = criterion(outputs.logits, batch_labels)\n",
        "        loss.backward()\n",
        "        optimizer.step()\n",
        "\n",
        "        total_loss += loss.item()\n",
        "\n",
        "    avg_train_loss = total_loss / len(train_loader)\n",
        "    print(f\"Average training loss: {avg_train_loss:.2f}\")\n"
      ]
    },
    {
      "cell_type": "code",
      "execution_count": null,
      "id": "dff5a74b-182c-49e9-8276-60bd358117da",
      "metadata": {
        "id": "dff5a74b-182c-49e9-8276-60bd358117da",
        "outputId": "e6bc2377-4f5f-4b1d-9181-ea8f65358073"
      },
      "outputs": [
        {
          "data": {
            "text/plain": [
              "('./model_save/tokenizer_config.json',\n",
              " './model_save/special_tokens_map.json',\n",
              " './model_save/vocab.txt',\n",
              " './model_save/added_tokens.json')"
            ]
          },
          "execution_count": 31,
          "metadata": {},
          "output_type": "execute_result"
        }
      ],
      "source": [
        "# Save the model weights\n",
        "model.save_pretrained('./model_save')\n",
        "\n",
        "# Save the tokenizer\n",
        "tokenizer.save_pretrained('./model_save')\n"
      ]
    },
    {
      "cell_type": "code",
      "execution_count": null,
      "id": "e9eb512f-f0f5-4509-99e1-3a5a4deea9f6",
      "metadata": {
        "id": "e9eb512f-f0f5-4509-99e1-3a5a4deea9f6",
        "outputId": "3708111d-0183-4218-e6ea-9db5a206b1e7"
      },
      "outputs": [
        {
          "data": {
            "text/plain": [
              "BertForSequenceClassification(\n",
              "  (bert): BertModel(\n",
              "    (embeddings): BertEmbeddings(\n",
              "      (word_embeddings): Embedding(30522, 768, padding_idx=0)\n",
              "      (position_embeddings): Embedding(512, 768)\n",
              "      (token_type_embeddings): Embedding(2, 768)\n",
              "      (LayerNorm): LayerNorm((768,), eps=1e-12, elementwise_affine=True)\n",
              "      (dropout): Dropout(p=0.1, inplace=False)\n",
              "    )\n",
              "    (encoder): BertEncoder(\n",
              "      (layer): ModuleList(\n",
              "        (0-11): 12 x BertLayer(\n",
              "          (attention): BertAttention(\n",
              "            (self): BertSelfAttention(\n",
              "              (query): Linear(in_features=768, out_features=768, bias=True)\n",
              "              (key): Linear(in_features=768, out_features=768, bias=True)\n",
              "              (value): Linear(in_features=768, out_features=768, bias=True)\n",
              "              (dropout): Dropout(p=0.1, inplace=False)\n",
              "            )\n",
              "            (output): BertSelfOutput(\n",
              "              (dense): Linear(in_features=768, out_features=768, bias=True)\n",
              "              (LayerNorm): LayerNorm((768,), eps=1e-12, elementwise_affine=True)\n",
              "              (dropout): Dropout(p=0.1, inplace=False)\n",
              "            )\n",
              "          )\n",
              "          (intermediate): BertIntermediate(\n",
              "            (dense): Linear(in_features=768, out_features=3072, bias=True)\n",
              "            (intermediate_act_fn): GELUActivation()\n",
              "          )\n",
              "          (output): BertOutput(\n",
              "            (dense): Linear(in_features=3072, out_features=768, bias=True)\n",
              "            (LayerNorm): LayerNorm((768,), eps=1e-12, elementwise_affine=True)\n",
              "            (dropout): Dropout(p=0.1, inplace=False)\n",
              "          )\n",
              "        )\n",
              "      )\n",
              "    )\n",
              "    (pooler): BertPooler(\n",
              "      (dense): Linear(in_features=768, out_features=768, bias=True)\n",
              "      (activation): Tanh()\n",
              "    )\n",
              "  )\n",
              "  (dropout): Dropout(p=0.1, inplace=False)\n",
              "  (classifier): Linear(in_features=768, out_features=11, bias=True)\n",
              ")"
            ]
          },
          "execution_count": 32,
          "metadata": {},
          "output_type": "execute_result"
        }
      ],
      "source": [
        "from transformers import BertForSequenceClassification, BertTokenizer\n",
        "\n",
        "# Load the model\n",
        "model = BertForSequenceClassification.from_pretrained('./model_save')\n",
        "\n",
        "# Load the tokenizer\n",
        "tokenizer = BertTokenizer.from_pretrained('./model_save')\n",
        "\n",
        "# Ensure you move the model to the correct device\n",
        "device = torch.device('cuda' if torch.cuda.is_available() else 'cpu')\n",
        "model.to(device)\n"
      ]
    },
    {
      "cell_type": "code",
      "execution_count": null,
      "id": "169ba0c9-dd32-48f3-a141-1050b28b8559",
      "metadata": {
        "id": "169ba0c9-dd32-48f3-a141-1050b28b8559",
        "outputId": "512040c2-a3fb-4d26-8fa7-f7700bde7a81"
      },
      "outputs": [
        {
          "name": "stdout",
          "output_type": "stream",
          "text": [
            "Loss: 0.2184\n",
            "Accuracy: 0.6907\n",
            "Precision: 0.7810\n",
            "Recall: 0.7568\n",
            "F1 Score: 0.7687\n",
            "Mean Squared Error: 0.0615\n",
            "Test Error Rate: 0.3093\n",
            "Confusion Matrix:\n",
            " [[  0   1   0   3   1   0   0   0   0   1]\n",
            " [  3  12   0   0   7   3   2   1   1   3]\n",
            " [  1   2  47   1   5   9   0   0   0   0]\n",
            " [  3   4   0  25   2   2   0   2   1   4]\n",
            " [  3   4   2   0 395  95   2   0   4   3]\n",
            " [  5   2   3   1  49 203   5   0   5   4]\n",
            " [  1   0   0   0   7   5  55   0   0   0]\n",
            " [  0   0   0   0   0   0   0   0   0   0]\n",
            " [  0   0   0   0   0   0   0   0   0   0]\n",
            " [  0   0   0   0   0   0   0   0   0   0]]\n"
          ]
        }
      ],
      "source": [
        "def evaluate_model(model, data_loader, criterion, device):\n",
        "    model.eval()  # Set the model to evaluation mode\n",
        "    predictions, true_labels, probabilities = [], [], []\n",
        "\n",
        "    total_loss = 0\n",
        "    with torch.no_grad():\n",
        "        for batch in data_loader:\n",
        "            input_ids = batch['input_ids'].to(device)\n",
        "            attention_mask = batch['attention_mask'].to(device)\n",
        "            labels = batch['labels'].to(device)\n",
        "\n",
        "            outputs = model(input_ids, token_type_ids=None, attention_mask=attention_mask)\n",
        "            loss = criterion(outputs.logits, labels)\n",
        "            total_loss += loss.item()\n",
        "\n",
        "            logits = outputs.logits\n",
        "            sigmoid_outputs = torch.sigmoid(logits)\n",
        "            probabilities.append(sigmoid_outputs.cpu().numpy())\n",
        "            pred_bools = (sigmoid_outputs > 0.5).cpu().numpy()\n",
        "            predictions.append(pred_bools)\n",
        "            true_labels.append(labels.cpu().numpy())\n",
        "\n",
        "    # Flatten the predictions and true labels lists\n",
        "    predictions = np.vstack(predictions)\n",
        "    true_labels = np.vstack(true_labels)\n",
        "    probabilities = np.vstack(probabilities)\n",
        "\n",
        "    # Calculate Metrics\n",
        "    accuracy = accuracy_score(true_labels, predictions)\n",
        "    precision = precision_score(true_labels, predictions, average='micro')\n",
        "    recall = recall_score(true_labels, predictions, average='micro')\n",
        "    f1 = f1_score(true_labels, predictions, average='micro')\n",
        "    mse = mean_squared_error(true_labels, probabilities)\n",
        "    test_error_rate = 1 - accuracy\n",
        "    conf_matrix = confusion_matrix(true_labels.argmax(axis=1), predictions.argmax(axis=1))\n",
        "\n",
        "    print(f\"Loss: {total_loss / len(data_loader):.4f}\")\n",
        "    print(f\"Accuracy: {accuracy:.4f}\")\n",
        "    print(f\"Precision: {precision:.4f}\")\n",
        "    print(f\"Recall: {recall:.4f}\")\n",
        "    print(f\"F1 Score: {f1:.4f}\")\n",
        "    print(f\"Mean Squared Error: {mse:.4f}\")\n",
        "    print(f\"Test Error Rate: {test_error_rate:.4f}\")\n",
        "    print(\"Confusion Matrix:\\n\", conf_matrix)\n",
        "\n",
        "# Criterion for loss computation\n",
        "criterion = torch.nn.BCEWithLogitsLoss()\n",
        "\n",
        "# Evaluate the model\n",
        "evaluate_model(model, test_loader, criterion, device)\n"
      ]
    },
    {
      "cell_type": "code",
      "execution_count": null,
      "id": "a4e53ae7-563a-4c76-9824-bbf75db938cf",
      "metadata": {
        "id": "a4e53ae7-563a-4c76-9824-bbf75db938cf",
        "outputId": "d56f21c6-468a-493a-fe9f-cc326cd1d3ab"
      },
      "outputs": [
        {
          "data": {
            "image/png": "[encoded data removed]",
            "text/plain": [
              "<Figure size 1000x800 with 2 Axes>"
            ]
          },
          "metadata": {},
          "output_type": "display_data"
        }
      ],
      "source": [
        "import numpy as np\n",
        "import matplotlib.pyplot as plt\n",
        "import seaborn as sns\n",
        "from sklearn.metrics import confusion_matrix\n",
        "\n",
        "# Compute the confusion matrix\n",
        "cm = confusion_matrix(true_labels.argmax(axis=1), predictions.argmax(axis=1))\n",
        "\n",
        "# Define the class names for your model's classes\n",
        "class_names = mlb.classes_\n",
        "\n",
        "# Plotting the confusion matrix\n",
        "plt.figure(figsize=(10, 8))\n",
        "sns.heatmap(cm, annot=True, fmt='d', cmap='Blues', xticklabels=class_names, yticklabels=class_names)\n",
        "\n",
        "# Adding labels and title\n",
        "plt.ylabel('Actual')\n",
        "plt.xlabel('Predicted')\n",
        "plt.title('Confusion Matrix')\n",
        "\n",
        "# Show the plot\n",
        "plt.show()\n"
      ]
    },
    {
      "cell_type": "code",
      "execution_count": null,
      "id": "b8b8e4ed-b86a-4cf5-b1d7-6c64d7957da4",
      "metadata": {
        "id": "b8b8e4ed-b86a-4cf5-b1d7-6c64d7957da4",
        "outputId": "7ef18722-cba8-40f4-c07c-79e8d4c5704c"
      },
      "outputs": [
        {
          "name": "stdout",
          "output_type": "stream",
          "text": [
            "tensor([0.0019, 0.0055, 0.0026, 0.0050, 0.9815, 0.0096, 0.0023, 0.9763, 0.0178,\n",
            "        0.0082, 0.0025], device='cuda:0')\n"
          ]
        }
      ],
      "source": [
        "def predict(text):\n",
        "    model.eval()  # Put the model in evaluation mode\n",
        "    inputs = tokenizer(text, return_tensors=\"pt\", max_length=512, padding='max_length', truncation=True)\n",
        "\n",
        "    # Move tensors to the right device\n",
        "    inputs = {k: v.to(device) for k, v in inputs.items()}\n",
        "\n",
        "    with torch.no_grad():\n",
        "        outputs = model(**inputs)\n",
        "        probabilities = torch.sigmoid(outputs.logits).squeeze()\n",
        "\n",
        "    return probabilities\n",
        "\n",
        "# Example use\n",
        "text = \"This has been discussed in the Executive Summary via a table and will likely be covered in great depth later in this report.\"\n",
        "probabilities = predict(text)\n",
        "print(probabilities)\n"
      ]
    },
    {
      "cell_type": "code",
      "execution_count": null,
      "id": "f108849b-0598-4887-8ee3-4fe0db3d9e9c",
      "metadata": {
        "id": "f108849b-0598-4887-8ee3-4fe0db3d9e9c",
        "outputId": "9be2af7e-6f26-426f-b7a3-80e8277ce813"
      },
      "outputs": [
        {
          "data": {
            "text/plain": [
              "('bert_tokenizer/tokenizer_config.json',\n",
              " 'bert_tokenizer/special_tokens_map.json',\n",
              " 'bert_tokenizer/vocab.txt',\n",
              " 'bert_tokenizer/added_tokens.json')"
            ]
          },
          "execution_count": 36,
          "metadata": {},
          "output_type": "execute_result"
        }
      ],
      "source": [
        "from transformers import BertTokenizer, BertForSequenceClassification\n",
        "\n",
        "model_path = \"bert_model\"\n",
        "model.save_pretrained(model_path)\n",
        "\n",
        "tokenizer_path = \"bert_tokenizer\"\n",
        "tokenizer.save_pretrained(tokenizer_path)\n"
      ]
    },
    {
      "cell_type": "code",
      "execution_count": null,
      "id": "4acab483-a359-4d6a-b790-8de2223e8797",
      "metadata": {
        "id": "4acab483-a359-4d6a-b790-8de2223e8797",
        "outputId": "8786a886-57b0-4280-96bb-56755c3972c5"
      },
      "outputs": [
        {
          "data": {
            "text/plain": [
              "BertForSequenceClassification(\n",
              "  (bert): BertModel(\n",
              "    (embeddings): BertEmbeddings(\n",
              "      (word_embeddings): Embedding(30522, 768, padding_idx=0)\n",
              "      (position_embeddings): Embedding(512, 768)\n",
              "      (token_type_embeddings): Embedding(2, 768)\n",
              "      (LayerNorm): LayerNorm((768,), eps=1e-12, elementwise_affine=True)\n",
              "      (dropout): Dropout(p=0.1, inplace=False)\n",
              "    )\n",
              "    (encoder): BertEncoder(\n",
              "      (layer): ModuleList(\n",
              "        (0-11): 12 x BertLayer(\n",
              "          (attention): BertAttention(\n",
              "            (self): BertSelfAttention(\n",
              "              (query): Linear(in_features=768, out_features=768, bias=True)\n",
              "              (key): Linear(in_features=768, out_features=768, bias=True)\n",
              "              (value): Linear(in_features=768, out_features=768, bias=True)\n",
              "              (dropout): Dropout(p=0.1, inplace=False)\n",
              "            )\n",
              "            (output): BertSelfOutput(\n",
              "              (dense): Linear(in_features=768, out_features=768, bias=True)\n",
              "              (LayerNorm): LayerNorm((768,), eps=1e-12, elementwise_affine=True)\n",
              "              (dropout): Dropout(p=0.1, inplace=False)\n",
              "            )\n",
              "          )\n",
              "          (intermediate): BertIntermediate(\n",
              "            (dense): Linear(in_features=768, out_features=3072, bias=True)\n",
              "            (intermediate_act_fn): GELUActivation()\n",
              "          )\n",
              "          (output): BertOutput(\n",
              "            (dense): Linear(in_features=3072, out_features=768, bias=True)\n",
              "            (LayerNorm): LayerNorm((768,), eps=1e-12, elementwise_affine=True)\n",
              "            (dropout): Dropout(p=0.1, inplace=False)\n",
              "          )\n",
              "        )\n",
              "      )\n",
              "    )\n",
              "    (pooler): BertPooler(\n",
              "      (dense): Linear(in_features=768, out_features=768, bias=True)\n",
              "      (activation): Tanh()\n",
              "    )\n",
              "  )\n",
              "  (dropout): Dropout(p=0.1, inplace=False)\n",
              "  (classifier): Linear(in_features=768, out_features=11, bias=True)\n",
              ")"
            ]
          },
          "execution_count": 37,
          "metadata": {},
          "output_type": "execute_result"
        }
      ],
      "source": [
        "# Load the model and tokenizer\n",
        "model = BertForSequenceClassification.from_pretrained(model_path)\n",
        "tokenizer = BertTokenizer.from_pretrained(tokenizer_path)\n",
        "\n",
        "# Move model to appropriate device\n",
        "device = torch.device('cuda' if torch.cuda.is_available() else 'cpu')\n",
        "model.to(device)\n",
        "model.eval()  # Set the model to evaluation mode\n"
      ]
    },
    {
      "cell_type": "code",
      "execution_count": null,
      "id": "59956331-3d3d-4098-b481-5a8abf855859",
      "metadata": {
        "id": "59956331-3d3d-4098-b481-5a8abf855859",
        "outputId": "28943cbd-70d7-4f09-e0b5-4f5972ff9071"
      },
      "outputs": [
        {
          "name": "stdout",
          "output_type": "stream",
          "text": [
            "Predicted Labels: ['EXECUTION', 'MODIFICATION']\n"
          ]
        }
      ],
      "source": [
        "def predict_text(text, model, tokenizer, class_names, max_len=512):\n",
        "    model.eval()  # Ensure model is in eval mode for inference\n",
        "\n",
        "    # Prepare the text input for the model\n",
        "    encoded_input = tokenizer.encode_plus(\n",
        "        text,\n",
        "        add_special_tokens=True,\n",
        "        max_length=max_len,\n",
        "        padding='max_length',\n",
        "        truncation=True,\n",
        "        return_tensors='pt'\n",
        "    )\n",
        "    input_ids = encoded_input['input_ids'].to(device)\n",
        "    attention_mask = encoded_input['attention_mask'].to(device)\n",
        "\n",
        "    # Get predictions\n",
        "    with torch.no_grad():\n",
        "        outputs = model(input_ids, attention_mask=attention_mask)\n",
        "        probs = torch.sigmoid(outputs.logits).squeeze()\n",
        "\n",
        "    # Convert probabilities to binary predictions\n",
        "    predictions = (probs > 0.5).cpu().numpy()\n",
        "    predicted_labels = [class_names[i] for i, pred in enumerate(predictions) if pred]\n",
        "\n",
        "    return predicted_labels, probs.cpu().numpy()\n",
        "\n",
        "# Example usage\n",
        "text = \"Changed from 6 grades per nine weeks to 10\"\n",
        "class_names = mlb.classes_  # Your class names from MultiLabelBinarizer\n",
        "predicted_labels, probabilities = predict_text(text, model, tokenizer, class_names)\n",
        "print(\"Predicted Labels:\", predicted_labels)\n"
      ]
    },
    {
      "cell_type": "code",
      "execution_count": null,
      "id": "f5ef6f16-a24f-45e8-a5ed-cbe76944cdaa",
      "metadata": {
        "id": "f5ef6f16-a24f-45e8-a5ed-cbe76944cdaa",
        "outputId": "d293cb4c-e16c-47b6-ff8a-f4e016d0deed"
      },
      "outputs": [
        {
          "name": "stdout",
          "output_type": "stream",
          "text": [
            "Predicted Labels: ['MODIFICATION', 'REQUESTED']\n"
          ]
        }
      ],
      "source": [
        "text = \"Try not to use the same words back to back.\"\n",
        "class_names = mlb.classes_  # Your class names from MultiLabelBinarizer\n",
        "predicted_labels, probabilities = predict_text(text, model, tokenizer, class_names)\n",
        "print(\"Predicted Labels:\", predicted_labels)"
      ]
    },
    {
      "cell_type": "code",
      "execution_count": null,
      "id": "ca3a9293-13b6-45af-8eef-4145ad80abf6",
      "metadata": {
        "id": "ca3a9293-13b6-45af-8eef-4145ad80abf6",
        "outputId": "2b5bc111-7abb-4bac-d70d-830b2fa7941a"
      },
      "outputs": [
        {
          "name": "stdout",
          "output_type": "stream",
          "text": [
            "Predicted Labels: ['INFORMATION EXCHANGE', 'REQUESTED']\n"
          ]
        }
      ],
      "source": [
        "text = \"Does this sentence say exactly what you mean? I.e. our sense of contingency is one among others?\"\n",
        "class_names = mlb.classes_  # Your class names from MultiLabelBinarizer\n",
        "predicted_labels, probabilities = predict_text(text, model, tokenizer, class_names)\n",
        "print(\"Predicted Labels:\", predicted_labels)"
      ]
    },
    {
      "cell_type": "code",
      "execution_count": null,
      "id": "0dba1ca3-91bd-4ceb-b0c0-e36c9d7130a9",
      "metadata": {
        "id": "0dba1ca3-91bd-4ceb-b0c0-e36c9d7130a9",
        "outputId": "cb6f7991-e95a-458f-e057-9c18c65a3585"
      },
      "outputs": [
        {
          "name": "stdout",
          "output_type": "stream",
          "text": [
            "Predicted Labels: ['FEEDBACK', 'SOCIAL COMMUNICATION']\n"
          ]
        }
      ],
      "source": [
        "text = '''A very nice observation. The notion that the change in the\n",
        "speaker’s attitude is dramatized by his changing uses of language is very powerful.'''\n",
        "class_names = mlb.classes_  # Your class names from MultiLabelBinarizer\n",
        "predicted_labels, probabilities = predict_text(text, model, tokenizer, class_names)\n",
        "print(\"Predicted Labels:\", predicted_labels)"
      ]
    },
    {
      "cell_type": "markdown",
      "id": "59308f11-6cbf-4548-8e1c-9efb7e3cda97",
      "metadata": {
        "id": "59308f11-6cbf-4548-8e1c-9efb7e3cda97"
      },
      "source": [
        "# Bart\n"
      ]
    },
    {
      "cell_type": "code",
      "execution_count": null,
      "id": "1c1a6bb6-66ed-4aa7-bc3b-344bb58c9b8d",
      "metadata": {
        "id": "1c1a6bb6-66ed-4aa7-bc3b-344bb58c9b8d"
      },
      "outputs": [],
      "source": [
        "import pandas as pd\n",
        "from sklearn.model_selection import train_test_split\n",
        "from sklearn.preprocessing import MultiLabelBinarizer\n",
        "from torch.utils.data import DataLoader, Dataset\n",
        "import torch\n",
        "from transformers import BartTokenizer, BartForSequenceClassification, AdamW\n",
        "\n",
        "# Load the dataset\n",
        "df = pd.read_csv('labeled_comments_cleaned.csv')\n",
        "\n",
        "# Handle missing values and ensure all data are strings\n",
        "df.fillna('Unknown', inplace=True)\n",
        "df['level_0'] = df['level_0'].astype(str)\n",
        "df['level_1'] = df['level_1'].astype(str)\n",
        "\n",
        "# Combine the label columns into a list of labels per row\n",
        "df['combined_labels'] = df[['level_0', 'level_1']].apply(lambda x: list(x), axis=1)\n",
        "\n",
        "# Initialize MultiLabelBinarizer\n",
        "mlb = MultiLabelBinarizer()\n",
        "labels = mlb.fit_transform(df['combined_labels'])\n",
        "\n",
        "# Split the dataset\n",
        "X_train, X_test, y_train, y_test = train_test_split(df['comment_full_text'], labels, test_size=0.2, random_state=42)\n",
        "\n",
        "# Define the dataset class\n",
        "class TextDataset(Dataset):\n",
        "    def __init__(self, texts, labels, tokenizer, max_len=512):\n",
        "        self.texts = texts\n",
        "        self.labels = labels\n",
        "        self.tokenizer = tokenizer\n",
        "        self.max_len = max_len\n",
        "\n",
        "    def __len__(self):\n",
        "        return len(self.texts)\n",
        "\n",
        "    def __getitem__(self, idx):\n",
        "        text = self.texts.iloc[idx]\n",
        "        label = self.labels[idx]\n",
        "        encoding = self.tokenizer.encode_plus(\n",
        "            text,\n",
        "            add_special_tokens=True,\n",
        "            max_length=self.max_len,\n",
        "            padding='max_length',\n",
        "            truncation=True,\n",
        "            return_tensors='pt'\n",
        "        )\n",
        "        return {\n",
        "            'input_ids': encoding['input_ids'].flatten(),\n",
        "            'attention_mask': encoding['attention_mask'].flatten(),\n",
        "            'labels': torch.FloatTensor(label)\n",
        "        }\n",
        "\n",
        "# Load the tokenizer\n",
        "tokenizer = BartTokenizer.from_pretrained('facebook/bart-base')\n",
        "\n",
        "# Create DataLoaders\n",
        "train_dataset = TextDataset(X_train, y_train, tokenizer)\n",
        "test_dataset = TextDataset(X_test, y_test, tokenizer)\n",
        "train_loader = DataLoader(train_dataset, batch_size=8, shuffle=True)\n",
        "test_loader = DataLoader(test_dataset, batch_size=8)\n"
      ]
    },
    {
      "cell_type": "code",
      "execution_count": null,
      "id": "ed186a76-9542-49b6-9d7c-1f133e67beec",
      "metadata": {
        "id": "ed186a76-9542-49b6-9d7c-1f133e67beec",
        "outputId": "85f80e26-06a5-433b-f920-7d94c60c5245"
      },
      "outputs": [
        {
          "name": "stderr",
          "output_type": "stream",
          "text": [
            "Some weights of BartForSequenceClassification were not initialized from the model checkpoint at facebook/bart-base and are newly initialized: ['classification_head.dense.bias', 'classification_head.dense.weight', 'classification_head.out_proj.bias', 'classification_head.out_proj.weight']\n",
            "You should probably TRAIN this model on a down-stream task to be able to use it for predictions and inference.\n",
            "/home/sushanr/.conda/envs/mlp/lib/python3.8/site-packages/transformers/optimization.py:521: FutureWarning: This implementation of AdamW is deprecated and will be removed in a future version. Use the PyTorch implementation torch.optim.AdamW instead, or set `no_deprecation_warning=True` to disable this warning\n",
            "  warnings.warn(\n"
          ]
        },
        {
          "name": "stdout",
          "output_type": "stream",
          "text": [
            "Epoch 1, Loss: 0.2632852512559217\n",
            "Epoch 2, Loss: 0.1931678383780983\n",
            "Epoch 3, Loss: 0.16506273564481305\n",
            "Epoch 4, Loss: 0.15306399059752543\n",
            "Epoch 5, Loss: 0.13693122676795794\n",
            "Epoch 6, Loss: 0.12839344339650535\n",
            "Epoch 7, Loss: 0.12448712111355546\n",
            "Epoch 8, Loss: 0.11940648498569796\n",
            "Epoch 9, Loss: 0.11851376032303712\n",
            "Epoch 10, Loss: 0.11118982105006377\n"
          ]
        }
      ],
      "source": [
        "# Initialize the BART model\n",
        "device = torch.device(\"cuda\" if torch.cuda.is_available() else \"cpu\")\n",
        "model = BartForSequenceClassification.from_pretrained('facebook/bart-base', num_labels=labels.shape[1])\n",
        "model.to(device)\n",
        "\n",
        "# Set up the optimizer\n",
        "optimizer = AdamW(model.parameters(), lr=5e-5)\n",
        "\n",
        "# Train the model\n",
        "model.train()\n",
        "for epoch in range(10):  # Number of epochs\n",
        "    total_loss = 0\n",
        "    for batch in train_loader:\n",
        "        batch = {k: v.to(device) for k, v in batch.items()}\n",
        "        outputs = model(**batch)\n",
        "        loss = outputs.loss\n",
        "        loss.backward()\n",
        "        optimizer.step()\n",
        "        optimizer.zero_grad()\n",
        "        total_loss += loss.item()\n",
        "    print(f'Epoch {epoch+1}, Loss: {total_loss / len(train_loader)}')\n"
      ]
    },
    {
      "cell_type": "code",
      "execution_count": null,
      "id": "fc33996d-3552-47f3-b83a-e0d914d7e1eb",
      "metadata": {
        "id": "fc33996d-3552-47f3-b83a-e0d914d7e1eb",
        "outputId": "c9fce2a5-0b64-4c78-c65c-82838919d36f"
      },
      "outputs": [
        {
          "name": "stderr",
          "output_type": "stream",
          "text": [
            "Some non-default generation parameters are set in the model config. These should go into a GenerationConfig file (https://huggingface.co/docs/transformers/generation_strategies#save-a-custom-decoding-strategy-with-your-model) instead. This warning will be raised to an exception in v4.41.\n",
            "Non-default generation parameters: {'early_stopping': True, 'num_beams': 4, 'no_repeat_ngram_size': 3, 'forced_bos_token_id': 0, 'forced_eos_token_id': 2}\n"
          ]
        },
        {
          "data": {
            "text/plain": [
              "('path_to_save_bart_tokenizer/tokenizer_config.json',\n",
              " 'path_to_save_bart_tokenizer/special_tokens_map.json',\n",
              " 'path_to_save_bart_tokenizer/vocab.json',\n",
              " 'path_to_save_bart_tokenizer/merges.txt',\n",
              " 'path_to_save_bart_tokenizer/added_tokens.json')"
            ]
          },
          "execution_count": 44,
          "metadata": {},
          "output_type": "execute_result"
        }
      ],
      "source": [
        "model.save_pretrained('path_to_save_bart_model')\n",
        "tokenizer.save_pretrained('path_to_save_bart_tokenizer')"
      ]
    },
    {
      "cell_type": "code",
      "execution_count": null,
      "id": "baf6f3c7-9a54-44c2-8f0a-3eaf6ec85021",
      "metadata": {
        "id": "baf6f3c7-9a54-44c2-8f0a-3eaf6ec85021",
        "outputId": "e2da38c2-05a9-4755-f13b-edb6992e1ad4"
      },
      "outputs": [
        {
          "name": "stderr",
          "output_type": "stream",
          "text": [
            "You passed along `num_labels=3` with an incompatible id to label map: {'0': 'LABEL_0', '1': 'LABEL_1', '2': 'LABEL_2', '3': 'LABEL_3', '4': 'LABEL_4', '5': 'LABEL_5', '6': 'LABEL_6', '7': 'LABEL_7', '8': 'LABEL_8', '9': 'LABEL_9', '10': 'LABEL_10'}. The number of labels wil be overwritten to 11.\n"
          ]
        },
        {
          "name": "stdout",
          "output_type": "stream",
          "text": [
            "Predicted Labels: ['MODIFICATION', 'REQUESTED']\n"
          ]
        }
      ],
      "source": [
        "def predict_text(text, model, tokenizer, class_names, device):\n",
        "    model.eval()\n",
        "    inputs = tokenizer.encode_plus(text, return_tensors=\"pt\", max_length=512, padding='max_length', truncation=True)\n",
        "    inputs = {key: value.to(device) for key, value in inputs.items()}\n",
        "    with torch.no_grad():\n",
        "        outputs = model(**inputs)\n",
        "        predictions = torch.sigmoid(outputs.logits).squeeze()\n",
        "    predicted_labels = [class_names[i] for i, pred in enumerate(predictions) if pred > 0.5]\n",
        "    return predicted_labels\n",
        "\n",
        "# Load model and tokenizer\n",
        "model = BartForSequenceClassification.from_pretrained('path_to_save_bart_model').to(device)\n",
        "tokenizer = BartTokenizer.from_pretrained('path_to_save_bart_tokenizer')\n",
        "\n",
        "# Example usage\n",
        "text = \"Texts in table cells can be adjusted to fit the page\"\n",
        "predicted_labels = predict_text(text, model, tokenizer, mlb.classes_, device)\n",
        "print(\"Predicted Labels:\", predicted_labels)"
      ]
    },
    {
      "cell_type": "code",
      "execution_count": null,
      "id": "44553ee4-f71d-4edd-8771-d1c3206c9d5b",
      "metadata": {
        "id": "44553ee4-f71d-4edd-8771-d1c3206c9d5b",
        "outputId": "691aa950-2639-4e7f-a5d2-38c7b847464f"
      },
      "outputs": [
        {
          "name": "stdout",
          "output_type": "stream",
          "text": [
            "Loss: 0.2531\n",
            "Accuracy: 0.6867\n",
            "Precision: 0.7759\n",
            "Recall: 0.7487\n",
            "F1 Score: 0.7621\n",
            "Mean Squared Error: 0.0677\n",
            "Test Error Rate: 0.3133\n"
          ]
        },
        {
          "data": {
            "image/png": "[encoded data removed]",
            "text/plain": [
              "<Figure size 1000x700 with 2 Axes>"
            ]
          },
          "metadata": {},
          "output_type": "display_data"
        }
      ],
      "source": [
        "def evaluate_model(model, data_loader, criterion, device):\n",
        "    model.eval()\n",
        "    predictions, true_labels, probabilities = [], [], []\n",
        "    total_loss = 0\n",
        "\n",
        "    with torch.no_grad():\n",
        "        for batch in data_loader:\n",
        "            input_ids = batch['input_ids'].to(device)\n",
        "            attention_mask = batch['attention_mask'].to(device)\n",
        "            labels = batch['labels'].to(device)\n",
        "\n",
        "            outputs = model(input_ids, attention_mask=attention_mask)\n",
        "            loss = criterion(outputs.logits, labels)\n",
        "            total_loss += loss.item()\n",
        "\n",
        "            sigmoid_outputs = torch.sigmoid(outputs.logits)\n",
        "            probabilities.append(sigmoid_outputs.cpu().numpy())\n",
        "            pred_bools = (sigmoid_outputs > 0.5).cpu().numpy()\n",
        "            predictions.append(pred_bools)\n",
        "            true_labels.append(batch['labels'].cpu().numpy())\n",
        "\n",
        "    # Flatten the predictions and true labels lists\n",
        "    predictions = np.vstack(predictions)\n",
        "    true_labels = np.vstack(true_labels)\n",
        "    probabilities = np.vstack(probabilities)\n",
        "\n",
        "    # Calculate Metrics\n",
        "    accuracy = accuracy_score(true_labels, predictions)\n",
        "    precision = precision_score(true_labels, predictions, average='micro')\n",
        "    recall = recall_score(true_labels, predictions, average='micro')\n",
        "    f1 = f1_score(true_labels, predictions, average='micro')\n",
        "    mse = mean_squared_error(true_labels, probabilities)\n",
        "    test_error_rate = 1 - accuracy\n",
        "    cm = confusion_matrix(true_labels.argmax(axis=1), predictions.argmax(axis=1))\n",
        "\n",
        "    # Print Metrics\n",
        "    print(f'Loss: {total_loss / len(data_loader):.4f}')\n",
        "    print(f'Accuracy: {accuracy:.4f}')\n",
        "    print(f'Precision: {precision:.4f}')\n",
        "    print(f'Recall: {recall:.4f}')\n",
        "    print(f'F1 Score: {f1:.4f}')\n",
        "    print(f'Mean Squared Error: {mse:.4f}')\n",
        "    print(f'Test Error Rate: {test_error_rate:.4f}')\n",
        "\n",
        "    # Plot Confusion Matrix\n",
        "    plt.figure(figsize=(10, 7))\n",
        "    sns.heatmap(cm, annot=True, fmt='g', cmap='Blues')\n",
        "    plt.xlabel('Predicted labels')\n",
        "    plt.ylabel('True labels')\n",
        "    plt.title('Confusion Matrix')\n",
        "    plt.show()\n",
        "\n",
        "# Criterion for calculating the loss\n",
        "criterion = torch.nn.BCEWithLogitsLoss()\n",
        "\n",
        "# Example call to evaluate the model\n",
        "evaluate_model(model, test_loader, criterion, device)\n"
      ]
    },
    {
      "cell_type": "code",
      "execution_count": null,
      "id": "234ce43b-1f61-4415-bbf4-493299d6487a",
      "metadata": {
        "id": "234ce43b-1f61-4415-bbf4-493299d6487a",
        "outputId": "2ee96427-772d-4259-b4f3-93b48c0add12"
      },
      "outputs": [
        {
          "name": "stdout",
          "output_type": "stream",
          "text": [
            "Predicted Labels: ['MODIFICATION', 'REQUESTED']\n"
          ]
        }
      ],
      "source": [
        "text = \"Try not to use the same words back to back.\"\n",
        "predicted_labels = predict_text(text, model, tokenizer, mlb.classes_, device)\n",
        "print(\"Predicted Labels:\", predicted_labels)"
      ]
    },
    {
      "cell_type": "code",
      "execution_count": null,
      "id": "92282219-957e-4194-8caa-78409a533288",
      "metadata": {
        "id": "92282219-957e-4194-8caa-78409a533288",
        "outputId": "ea374729-47e4-4aa5-eeec-65b765542d8b"
      },
      "outputs": [
        {
          "name": "stdout",
          "output_type": "stream",
          "text": [
            "Predicted Labels: ['INFORMATION EXCHANGE', 'REQUESTED']\n"
          ]
        }
      ],
      "source": [
        "text = \"Does this sentence say exactly what you mean? I.e. our sense of contingency is one among others?\"\n",
        "predicted_labels = predict_text(text, model, tokenizer, mlb.classes_, device)\n",
        "print(\"Predicted Labels:\", predicted_labels)"
      ]
    },
    {
      "cell_type": "code",
      "execution_count": null,
      "id": "03e1dc02-e64c-464d-8491-c43e8027f375",
      "metadata": {
        "id": "03e1dc02-e64c-464d-8491-c43e8027f375",
        "outputId": "480a0c23-f2a5-4a12-99c6-ed7bded7eb1c"
      },
      "outputs": [
        {
          "name": "stdout",
          "output_type": "stream",
          "text": [
            "Predicted Labels: ['FEEDBACK', 'SOCIAL COMMUNICATION']\n"
          ]
        }
      ],
      "source": [
        "text = '''A very nice observation. The notion that the change in the\n",
        "speaker’s attitude is dramatized by his changing uses of language is very powerful.'''\n",
        "predicted_labels = predict_text(text, model, tokenizer, mlb.classes_, device)\n",
        "print(\"Predicted Labels:\", predicted_labels)"
      ]
    },
    {
      "cell_type": "markdown",
      "id": "b9a383bc-e1a2-4825-a111-bf6d00c3c01c",
      "metadata": {
        "id": "b9a383bc-e1a2-4825-a111-bf6d00c3c01c"
      },
      "source": [
        "# Roberta"
      ]
    },
    {
      "cell_type": "code",
      "execution_count": null,
      "id": "74ea3a6a-a193-4119-9f8a-a2185eac0ee5",
      "metadata": {
        "id": "74ea3a6a-a193-4119-9f8a-a2185eac0ee5"
      },
      "outputs": [],
      "source": [
        "import pandas as pd\n",
        "from sklearn.model_selection import train_test_split\n",
        "from sklearn.preprocessing import MultiLabelBinarizer\n",
        "import torch\n",
        "from torch.utils.data import DataLoader, Dataset\n",
        "from transformers import RobertaTokenizer, RobertaForSequenceClassification, AdamW\n",
        "import numpy as np\n",
        "\n",
        "# Load the dataset\n",
        "df = pd.read_csv('labeled_comments_cleaned.csv')\n",
        "\n",
        "# Fill NaN values with 'Unknown' and ensure all data are strings\n",
        "df['level_0'] = df['level_0'].fillna('Unknown').astype(str)\n",
        "df['level_1'] = df['level_1'].fillna('Unknown').astype(str)\n",
        "\n",
        "# Combine the label columns into lists\n",
        "df['combined_labels'] = df[['level_0', 'level_1']].apply(lambda x: [x['level_0'], x['level_1']], axis=1)\n",
        "\n",
        "# Initialize MultiLabelBinarizer\n",
        "mlb = MultiLabelBinarizer()\n",
        "labels = mlb.fit_transform(df['combined_labels'])\n",
        "\n",
        "# Split the dataset\n",
        "X_train, X_test, y_train, y_test = train_test_split(df['comment_full_text'], labels, test_size=0.2, random_state=42)\n",
        "\n",
        "# Define the Dataset class\n",
        "class TextDataset(Dataset):\n",
        "    def __init__(self, texts, labels, tokenizer, max_len=512):\n",
        "        self.texts = texts\n",
        "        self.labels = labels\n",
        "        self.tokenizer = tokenizer\n",
        "        self.max_len = max_len\n",
        "\n",
        "    def __len__(self):\n",
        "        return len(self.texts)\n",
        "\n",
        "    def __getitem__(self, idx):\n",
        "        text = self.texts.iloc[idx]\n",
        "        label = self.labels[idx]\n",
        "        encoding = self.tokenizer.encode_plus(\n",
        "            text,\n",
        "            add_special_tokens=True,\n",
        "            max_length=self.max_len,\n",
        "            padding='max_length',\n",
        "            truncation=True,\n",
        "            return_tensors='pt'\n",
        "        )\n",
        "        return {\n",
        "            'input_ids': encoding['input_ids'].flatten(),\n",
        "            'attention_mask': encoding['attention_mask'].flatten(),\n",
        "            'labels': torch.FloatTensor(label)\n",
        "        }\n",
        "\n",
        "# Load the tokenizer\n",
        "tokenizer = RobertaTokenizer.from_pretrained('roberta-base')\n",
        "\n",
        "# Create DataLoaders\n",
        "train_dataset = TextDataset(X_train, y_train, tokenizer)\n",
        "test_dataset = TextDataset(X_test, y_test, tokenizer)\n",
        "train_loader = DataLoader(train_dataset, batch_size=8, shuffle=True)\n",
        "test_loader = DataLoader(test_dataset, batch_size=8)\n"
      ]
    },
    {
      "cell_type": "code",
      "execution_count": null,
      "id": "43386cb9-9290-4eac-85a2-f2773ed347c2",
      "metadata": {
        "id": "43386cb9-9290-4eac-85a2-f2773ed347c2",
        "outputId": "4b428aaa-4c70-4e5b-a3db-690aa40abf37"
      },
      "outputs": [
        {
          "name": "stderr",
          "output_type": "stream",
          "text": [
            "Some weights of RobertaForSequenceClassification were not initialized from the model checkpoint at roberta-base and are newly initialized: ['classifier.dense.bias', 'classifier.dense.weight', 'classifier.out_proj.bias', 'classifier.out_proj.weight']\n",
            "You should probably TRAIN this model on a down-stream task to be able to use it for predictions and inference.\n",
            "/home/sushanr/.conda/envs/mlp/lib/python3.8/site-packages/transformers/optimization.py:521: FutureWarning: This implementation of AdamW is deprecated and will be removed in a future version. Use the PyTorch implementation torch.optim.AdamW instead, or set `no_deprecation_warning=True` to disable this warning\n",
            "  warnings.warn(\n"
          ]
        },
        {
          "name": "stdout",
          "output_type": "stream",
          "text": [
            "Epoch 1, Loss: 0.12440411001443863\n",
            "Epoch 2, Loss: 0.28692683577537537\n",
            "Epoch 3, Loss: 0.1782081127166748\n",
            "Epoch 4, Loss: 0.054560836404561996\n",
            "Epoch 5, Loss: 0.2912602424621582\n",
            "Epoch 6, Loss: 0.07491719722747803\n",
            "Epoch 7, Loss: 0.268684059381485\n",
            "Epoch 8, Loss: 0.056757863610982895\n",
            "Epoch 9, Loss: 0.26236453652381897\n",
            "Epoch 10, Loss: 0.2067071795463562\n"
          ]
        }
      ],
      "source": [
        "# Load RoBERTa model configured for sequence classification\n",
        "model = RobertaForSequenceClassification.from_pretrained('roberta-base', num_labels=y_train.shape[1])\n",
        "model.cuda()  # Move model to GPU if available\n",
        "\n",
        "# Set up optimizer\n",
        "optimizer = AdamW(model.parameters(), lr=5e-5)\n",
        "\n",
        "# Training loop\n",
        "model.train()\n",
        "for epoch in range(10):  # Number of training epochs\n",
        "    for batch in train_loader:\n",
        "        batch = {k: v.cuda() for k, v in batch.items()}  # Move batch to GPU\n",
        "        outputs = model(**batch)\n",
        "        loss = outputs.loss\n",
        "        loss.backward()\n",
        "        optimizer.step()\n",
        "        optimizer.zero_grad()\n",
        "    print(f'Epoch {epoch + 1}, Loss: {loss.item()}')\n"
      ]
    },
    {
      "cell_type": "code",
      "execution_count": null,
      "id": "bf2e9325-5958-4358-b960-bf14ce8587c8",
      "metadata": {
        "id": "bf2e9325-5958-4358-b960-bf14ce8587c8",
        "outputId": "f713d0f7-5dbe-4ba5-9503-6e64e6fd6e46"
      },
      "outputs": [
        {
          "data": {
            "text/plain": [
              "('roberta_tokenizer/tokenizer_config.json',\n",
              " 'roberta_tokenizer/special_tokens_map.json',\n",
              " 'roberta_tokenizer/vocab.json',\n",
              " 'roberta_tokenizer/merges.txt',\n",
              " 'roberta_tokenizer/added_tokens.json')"
            ]
          },
          "execution_count": 52,
          "metadata": {},
          "output_type": "execute_result"
        }
      ],
      "source": [
        "model.save_pretrained('roberta_model')\n",
        "tokenizer.save_pretrained('roberta_tokenizer')"
      ]
    },
    {
      "cell_type": "code",
      "execution_count": null,
      "id": "124b1a22-c722-4def-906b-ae8d7eea683e",
      "metadata": {
        "id": "124b1a22-c722-4def-906b-ae8d7eea683e",
        "outputId": "790e51c3-f86d-41da-9e80-895de7498dc4"
      },
      "outputs": [
        {
          "name": "stdout",
          "output_type": "stream",
          "text": [
            "Accuracy: 0.6947\n",
            "Precision: 0.7861\n",
            "Recall: 0.7598\n",
            "F1 Score: 0.7727\n",
            "Mean Squared Error: 0.0612\n",
            "Test Error Rate: 0.3053\n"
          ]
        },
        {
          "data": {
            "image/png": "[encoded data removed]",
            "text/plain": [
              "<Figure size 1000x700 with 2 Axes>"
            ]
          },
          "metadata": {},
          "output_type": "display_data"
        }
      ],
      "source": [
        "def evaluate_model(model, data_loader, device):\n",
        "    model.eval()  # Set the model to evaluation mode\n",
        "    predictions, true_labels, probabilities = [], [], []\n",
        "\n",
        "    with torch.no_grad():\n",
        "        for batch in data_loader:\n",
        "            input_ids = batch['input_ids'].to(device)\n",
        "            attention_mask = batch['attention_mask'].to(device)\n",
        "            labels = batch['labels'].to(device)\n",
        "\n",
        "            outputs = model(input_ids, attention_mask=attention_mask)\n",
        "            logits = outputs.logits\n",
        "            probs = torch.sigmoid(logits)\n",
        "            predictions.extend((probs > 0.5).cpu().numpy())\n",
        "            true_labels.extend(labels.cpu().numpy())\n",
        "            probabilities.extend(probs.cpu().numpy())  # Ensure this is collecting data\n",
        "\n",
        "    # Convert lists to numpy arrays for metric calculation\n",
        "    predictions = np.vstack(predictions)\n",
        "    true_labels = np.vstack(true_labels)\n",
        "    probabilities = np.vstack(probabilities)  # Ensure this has the correct shape\n",
        "\n",
        "    # Calculate metrics\n",
        "    accuracy = accuracy_score(true_labels, predictions)\n",
        "    precision = precision_score(true_labels, predictions, average='micro')\n",
        "    recall = recall_score(true_labels, predictions, average='micro')\n",
        "    f1 = f1_score(true_labels, predictions, average='micro')\n",
        "    mse = mean_squared_error(true_labels, probabilities)\n",
        "    test_error_rate = 1 - accuracy\n",
        "    conf_matrix = confusion_matrix(true_labels.argmax(axis=1), predictions.argmax(axis=1))\n",
        "\n",
        "    # Output the metrics\n",
        "    print(f'Accuracy: {accuracy:.4f}')\n",
        "    print(f'Precision: {precision:.4f}')\n",
        "    print(f'Recall: {recall:.4f}')\n",
        "    print(f'F1 Score: {f1:.4f}')\n",
        "    print(f'Mean Squared Error: {mse:.4f}')\n",
        "    print(f'Test Error Rate: {test_error_rate:.4f}')\n",
        "\n",
        "    # Plotting the confusion matrix\n",
        "    plt.figure(figsize=(10, 7))\n",
        "    sns.heatmap(conf_matrix, annot=True, fmt='d', cmap='Blues')\n",
        "    plt.xlabel('Predicted labels')\n",
        "    plt.ylabel('True labels')\n",
        "    plt.title('Confusion Matrix')\n",
        "    plt.show()\n",
        "\n",
        "# Example call to evaluate the model\n",
        "evaluate_model(model, test_loader, torch.device('cuda' if torch.cuda.is_available() else 'cpu'))\n"
      ]
    },
    {
      "cell_type": "code",
      "execution_count": null,
      "id": "8c97a328-a01b-4e04-84d4-34479c9239e4",
      "metadata": {
        "id": "8c97a328-a01b-4e04-84d4-34479c9239e4",
        "outputId": "db5fabbc-2208-481b-a796-35e194783981"
      },
      "outputs": [
        {
          "name": "stdout",
          "output_type": "stream",
          "text": [
            "Predicted Labels: ['MODIFICATION', 'REQUESTED']\n"
          ]
        }
      ],
      "source": [
        "def predict_text(text, model, tokenizer, class_names):\n",
        "    model.eval()\n",
        "    inputs = tokenizer(text, return_tensors=\"pt\", padding=True, truncation=True, max_length=512)\n",
        "    inputs = {key: value.cuda() for key, value in inputs.items()}\n",
        "    with torch.no_grad():\n",
        "        outputs = model(**inputs)\n",
        "        probabilities = torch.sigmoid(outputs.logits).squeeze()\n",
        "    predictions = (probabilities > 0.5).cpu().numpy()\n",
        "    predicted_labels = [class_names[i] for i, pred in enumerate(predictions) if pred]\n",
        "    return predicted_labels\n",
        "\n",
        "# Example usage\n",
        "text = \"Texts in table cells can be adjusted to fit the page\"\n",
        "predicted_labels = predict_text(text, model, tokenizer, mlb.classes_)\n",
        "print(\"Predicted Labels:\", predicted_labels)\n"
      ]
    },
    {
      "cell_type": "code",
      "execution_count": null,
      "id": "b4a4ee32-37bb-42e6-bdc8-bb2958d8acbf",
      "metadata": {
        "id": "b4a4ee32-37bb-42e6-bdc8-bb2958d8acbf",
        "outputId": "c85e40cc-5209-4084-89ee-70e961e1c008"
      },
      "outputs": [
        {
          "name": "stdout",
          "output_type": "stream",
          "text": [
            "Predicted Labels: ['MODIFICATION', 'REQUESTED']\n"
          ]
        }
      ],
      "source": [
        "text = \"Try not to use the same words back to back.\"\n",
        "predicted_labels = predict_text(text, model, tokenizer, mlb.classes_)\n",
        "print(\"Predicted Labels:\", predicted_labels)"
      ]
    },
    {
      "cell_type": "code",
      "execution_count": null,
      "id": "a91d17a9-55a9-4200-8908-609d4462361c",
      "metadata": {
        "id": "a91d17a9-55a9-4200-8908-609d4462361c",
        "outputId": "9b89b965-9c3d-45ff-9114-35eea04e0d43"
      },
      "outputs": [
        {
          "name": "stdout",
          "output_type": "stream",
          "text": [
            "Predicted Labels: ['INFORMATION EXCHANGE', 'REQUESTED']\n"
          ]
        }
      ],
      "source": [
        "text = \"Does this sentence say exactly what you mean? I.e. our sense of contingency is one among others?\"\n",
        "predicted_labels = predict_text(text, model, tokenizer, mlb.classes_)\n",
        "print(\"Predicted Labels:\", predicted_labels)"
      ]
    },
    {
      "cell_type": "code",
      "execution_count": null,
      "id": "59159d37-af71-40a7-9485-3b50fdfd4e91",
      "metadata": {
        "id": "59159d37-af71-40a7-9485-3b50fdfd4e91",
        "outputId": "b5277035-9334-4702-93a9-241bf1c7e080"
      },
      "outputs": [
        {
          "name": "stdout",
          "output_type": "stream",
          "text": [
            "Predicted Labels: ['FEEDBACK', 'SOCIAL COMMUNICATION']\n"
          ]
        }
      ],
      "source": [
        "text = '''A very nice observation. The notion that the change in the\n",
        "speaker’s attitude is dramatized by his changing uses of language is very powerful.'''\n",
        "predicted_labels = predict_text(text, model, tokenizer, mlb.classes_)\n",
        "print(\"Predicted Labels:\", predicted_labels)"
      ]
    },
    {
      "cell_type": "code",
      "execution_count": null,
      "id": "bddeb109-fe6a-46a2-a6b3-bd716ab9e4ff",
      "metadata": {
        "id": "bddeb109-fe6a-46a2-a6b3-bd716ab9e4ff"
      },
      "outputs": [],
      "source": []
    },
    {
      "cell_type": "code",
      "execution_count": null,
      "id": "140b168c-1e0c-44fe-8b9e-58ee7ebbd568",
      "metadata": {
        "id": "140b168c-1e0c-44fe-8b9e-58ee7ebbd568"
      },
      "outputs": [],
      "source": []
    },
    {
      "cell_type": "code",
      "execution_count": null,
      "id": "6ddc9e11-9744-4daa-a44e-8bfb3e8aa0a1",
      "metadata": {
        "id": "6ddc9e11-9744-4daa-a44e-8bfb3e8aa0a1"
      },
      "outputs": [],
      "source": []
    },
    {
      "cell_type": "code",
      "execution_count": null,
      "id": "97a4eb92-c38e-44d9-8c16-3cd2a9d98abc",
      "metadata": {
        "id": "97a4eb92-c38e-44d9-8c16-3cd2a9d98abc"
      },
      "outputs": [],
      "source": []
    }
  ],
  "metadata": {
    "kernelspec": {
      "display_name": "Python 3 (ipykernel)",
      "language": "python",
      "name": "python3"
    },
    "language_info": {
      "codemirror_mode": {
        "name": "ipython",
        "version": 3
      },
      "file_extension": ".py",
      "mimetype": "text/x-python",
      "name": "python",
      "nbconvert_exporter": "python",
      "pygments_lexer": "ipython3",
      "version": "3.8.19"
    },
    "colab": {
      "provenance": []
    }
  },
  "nbformat": 4,
  "nbformat_minor": 5
}